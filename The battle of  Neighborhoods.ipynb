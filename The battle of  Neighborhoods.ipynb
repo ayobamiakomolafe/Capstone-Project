{
    "cells": [
        {
            "metadata": {},
            "cell_type": "markdown",
            "source": "#### A Group of Medical Practitioners (Medical Laboratory scientists) decides to move their abode from an African Country to the city of Toronto. They intend to arrive in Toronto and establish various medical diagnostic centers (Medical laboratories) across various Neighborhoods in the city of Toronto. Faced with the difficulty of selecting the best and most favorable neighborhood out of 140 neighborhoods in the city of Toronto, they employed the help of a Data scientist. This notebook contains the code of solving the problem.The Top factors to be considered in choosing the most favorable neighborhoods are:  neighborhood with low amounts of already established medical diagnostic centers/Medical laboratories, neighborhood with a high number of Hospitals around, neighborhood with a high population and neighborhood with a low crime rate."
        },
        {
            "metadata": {},
            "cell_type": "markdown",
            "source": "# Getting the datasets of toronto neighborhoods with their Lat and Long"
        },
        {
            "metadata": {},
            "cell_type": "code",
            "source": "import pandas as pd",
            "execution_count": 1,
            "outputs": []
        },
        {
            "metadata": {},
            "cell_type": "code",
            "source": "\nimport types\nimport pandas as pd\nfrom botocore.client import Config\nimport ibm_boto3\n\ndef __iter__(self): return 0\n\n# @hidden_cell\n# The following code accesses a file in your IBM Cloud Object Storage. It includes your credentials.\n# You might want to remove those credentials before you share the notebook.\nclient_36e28abdab9244e0a1733d951e0e413b = ibm_boto3.client(service_name='s3',\n    ibm_api_key_id='Fp1FUoE0OIuqLNGSLDbwBlQpKBfhaWGM_rbB2KaId746',\n    ibm_auth_endpoint=\"https://iam.cloud.ibm.com/oidc/token\",\n    config=Config(signature_version='oauth'),\n    endpoint_url='https://s3-api.us-geo.objectstorage.service.networklayer.com')\n\nbody = client_36e28abdab9244e0a1733d951e0e413b.get_object(Bucket='week4assignment-donotdelete-pr-pqw0layktd3fe0',Key='CityofToronto_WFL1.csv')['Body']\n# add missing __iter__ method, so pandas accepts body as file-like object\nif not hasattr(body, \"__iter__\"): body.__iter__ = types.MethodType( __iter__, body )\n\ndf_data_1 = pd.read_csv(body)\ndf_data_1.head()\n",
            "execution_count": 2,
            "outputs": [
                {
                    "output_type": "execute_result",
                    "execution_count": 2,
                    "data": {
                        "text/plain": "   OBJECTID  FIELD_1   FIELD_2   FIELD_3  FIELD_4  FIELD_5  FIELD_6  \\\n0         1        1  25886861  25926662    49885       94       94   \n1         2        2  25886820  25926663    49885      100      100   \n2         3        3  25886834  25926664    49885       97       97   \n3         4        4  25886593  25926665    49885       27       27   \n4         5        5  25886688  25926666    49885       31       31   \n\n                        FIELD_7                       FIELD_8  FIELD_9  \\\n0                 Wychwood (94)                 Wychwood (94)        0   \n1          Yonge-Eglinton (100)          Yonge-Eglinton (100)        0   \n2           Yonge-St.Clair (97)           Yonge-St.Clair (97)        0   \n3  York University Heights (27)  York University Heights (27)        0   \n4       Yorkdale-Glen Park (31)       Yorkdale-Glen Park (31)        0   \n\n   FIELD_10   FIELD_11   FIELD_12  FIELD_13      FIELD_14      FIELD_15  \\\n0         0 -79.425515  43.676919  16491505  3.217960e+06   7515.779658   \n1         0 -79.403590  43.704689  16491521  3.160334e+06   7872.021074   \n2         0 -79.397871  43.687859  16491537  2.222464e+06   8130.411276   \n3         0 -79.488883  43.765736  16491553  2.541821e+07  25632.335242   \n4         0 -79.457108  43.714672  16491569  1.156669e+07  13953.408098   \n\n   Shape__Area  Shape__Length  \n0     0.000188       0.059468  \n1     0.000184       0.059056  \n2     0.000130       0.059344  \n3     0.001481       0.199374  \n4     0.000675       0.106018  ",
                        "text/html": "<div>\n<style scoped>\n    .dataframe tbody tr th:only-of-type {\n        vertical-align: middle;\n    }\n\n    .dataframe tbody tr th {\n        vertical-align: top;\n    }\n\n    .dataframe thead th {\n        text-align: right;\n    }\n</style>\n<table border=\"1\" class=\"dataframe\">\n  <thead>\n    <tr style=\"text-align: right;\">\n      <th></th>\n      <th>OBJECTID</th>\n      <th>FIELD_1</th>\n      <th>FIELD_2</th>\n      <th>FIELD_3</th>\n      <th>FIELD_4</th>\n      <th>FIELD_5</th>\n      <th>FIELD_6</th>\n      <th>FIELD_7</th>\n      <th>FIELD_8</th>\n      <th>FIELD_9</th>\n      <th>FIELD_10</th>\n      <th>FIELD_11</th>\n      <th>FIELD_12</th>\n      <th>FIELD_13</th>\n      <th>FIELD_14</th>\n      <th>FIELD_15</th>\n      <th>Shape__Area</th>\n      <th>Shape__Length</th>\n    </tr>\n  </thead>\n  <tbody>\n    <tr>\n      <th>0</th>\n      <td>1</td>\n      <td>1</td>\n      <td>25886861</td>\n      <td>25926662</td>\n      <td>49885</td>\n      <td>94</td>\n      <td>94</td>\n      <td>Wychwood (94)</td>\n      <td>Wychwood (94)</td>\n      <td>0</td>\n      <td>0</td>\n      <td>-79.425515</td>\n      <td>43.676919</td>\n      <td>16491505</td>\n      <td>3.217960e+06</td>\n      <td>7515.779658</td>\n      <td>0.000188</td>\n      <td>0.059468</td>\n    </tr>\n    <tr>\n      <th>1</th>\n      <td>2</td>\n      <td>2</td>\n      <td>25886820</td>\n      <td>25926663</td>\n      <td>49885</td>\n      <td>100</td>\n      <td>100</td>\n      <td>Yonge-Eglinton (100)</td>\n      <td>Yonge-Eglinton (100)</td>\n      <td>0</td>\n      <td>0</td>\n      <td>-79.403590</td>\n      <td>43.704689</td>\n      <td>16491521</td>\n      <td>3.160334e+06</td>\n      <td>7872.021074</td>\n      <td>0.000184</td>\n      <td>0.059056</td>\n    </tr>\n    <tr>\n      <th>2</th>\n      <td>3</td>\n      <td>3</td>\n      <td>25886834</td>\n      <td>25926664</td>\n      <td>49885</td>\n      <td>97</td>\n      <td>97</td>\n      <td>Yonge-St.Clair (97)</td>\n      <td>Yonge-St.Clair (97)</td>\n      <td>0</td>\n      <td>0</td>\n      <td>-79.397871</td>\n      <td>43.687859</td>\n      <td>16491537</td>\n      <td>2.222464e+06</td>\n      <td>8130.411276</td>\n      <td>0.000130</td>\n      <td>0.059344</td>\n    </tr>\n    <tr>\n      <th>3</th>\n      <td>4</td>\n      <td>4</td>\n      <td>25886593</td>\n      <td>25926665</td>\n      <td>49885</td>\n      <td>27</td>\n      <td>27</td>\n      <td>York University Heights (27)</td>\n      <td>York University Heights (27)</td>\n      <td>0</td>\n      <td>0</td>\n      <td>-79.488883</td>\n      <td>43.765736</td>\n      <td>16491553</td>\n      <td>2.541821e+07</td>\n      <td>25632.335242</td>\n      <td>0.001481</td>\n      <td>0.199374</td>\n    </tr>\n    <tr>\n      <th>4</th>\n      <td>5</td>\n      <td>5</td>\n      <td>25886688</td>\n      <td>25926666</td>\n      <td>49885</td>\n      <td>31</td>\n      <td>31</td>\n      <td>Yorkdale-Glen Park (31)</td>\n      <td>Yorkdale-Glen Park (31)</td>\n      <td>0</td>\n      <td>0</td>\n      <td>-79.457108</td>\n      <td>43.714672</td>\n      <td>16491569</td>\n      <td>1.156669e+07</td>\n      <td>13953.408098</td>\n      <td>0.000675</td>\n      <td>0.106018</td>\n    </tr>\n  </tbody>\n</table>\n</div>"
                    },
                    "metadata": {}
                }
            ]
        },
        {
            "metadata": {},
            "cell_type": "code",
            "source": "df=df_data_1[['FIELD_7', 'FIELD_12','FIELD_11']]\ndf.head()",
            "execution_count": 3,
            "outputs": [
                {
                    "output_type": "execute_result",
                    "execution_count": 3,
                    "data": {
                        "text/plain": "                        FIELD_7   FIELD_12   FIELD_11\n0                 Wychwood (94)  43.676919 -79.425515\n1          Yonge-Eglinton (100)  43.704689 -79.403590\n2           Yonge-St.Clair (97)  43.687859 -79.397871\n3  York University Heights (27)  43.765736 -79.488883\n4       Yorkdale-Glen Park (31)  43.714672 -79.457108",
                        "text/html": "<div>\n<style scoped>\n    .dataframe tbody tr th:only-of-type {\n        vertical-align: middle;\n    }\n\n    .dataframe tbody tr th {\n        vertical-align: top;\n    }\n\n    .dataframe thead th {\n        text-align: right;\n    }\n</style>\n<table border=\"1\" class=\"dataframe\">\n  <thead>\n    <tr style=\"text-align: right;\">\n      <th></th>\n      <th>FIELD_7</th>\n      <th>FIELD_12</th>\n      <th>FIELD_11</th>\n    </tr>\n  </thead>\n  <tbody>\n    <tr>\n      <th>0</th>\n      <td>Wychwood (94)</td>\n      <td>43.676919</td>\n      <td>-79.425515</td>\n    </tr>\n    <tr>\n      <th>1</th>\n      <td>Yonge-Eglinton (100)</td>\n      <td>43.704689</td>\n      <td>-79.403590</td>\n    </tr>\n    <tr>\n      <th>2</th>\n      <td>Yonge-St.Clair (97)</td>\n      <td>43.687859</td>\n      <td>-79.397871</td>\n    </tr>\n    <tr>\n      <th>3</th>\n      <td>York University Heights (27)</td>\n      <td>43.765736</td>\n      <td>-79.488883</td>\n    </tr>\n    <tr>\n      <th>4</th>\n      <td>Yorkdale-Glen Park (31)</td>\n      <td>43.714672</td>\n      <td>-79.457108</td>\n    </tr>\n  </tbody>\n</table>\n</div>"
                    },
                    "metadata": {}
                }
            ]
        },
        {
            "metadata": {},
            "cell_type": "code",
            "source": "df.rename(columns={'FIELD_7':'Neigborhoods'}, inplace=True)\ndf.rename(columns={'FIELD_12':'Latitude'}, inplace=True)\ndf.rename(columns={'FIELD_11':'Longitude'}, inplace=True)\ndf.head()",
            "execution_count": 4,
            "outputs": [
                {
                    "output_type": "stream",
                    "text": "/opt/conda/envs/Python36/lib/python3.6/site-packages/pandas/core/frame.py:4025: SettingWithCopyWarning: \nA value is trying to be set on a copy of a slice from a DataFrame\n\nSee the caveats in the documentation: http://pandas.pydata.org/pandas-docs/stable/indexing.html#indexing-view-versus-copy\n  return super(DataFrame, self).rename(**kwargs)\n",
                    "name": "stderr"
                },
                {
                    "output_type": "execute_result",
                    "execution_count": 4,
                    "data": {
                        "text/plain": "                   Neigborhoods   Latitude  Longitude\n0                 Wychwood (94)  43.676919 -79.425515\n1          Yonge-Eglinton (100)  43.704689 -79.403590\n2           Yonge-St.Clair (97)  43.687859 -79.397871\n3  York University Heights (27)  43.765736 -79.488883\n4       Yorkdale-Glen Park (31)  43.714672 -79.457108",
                        "text/html": "<div>\n<style scoped>\n    .dataframe tbody tr th:only-of-type {\n        vertical-align: middle;\n    }\n\n    .dataframe tbody tr th {\n        vertical-align: top;\n    }\n\n    .dataframe thead th {\n        text-align: right;\n    }\n</style>\n<table border=\"1\" class=\"dataframe\">\n  <thead>\n    <tr style=\"text-align: right;\">\n      <th></th>\n      <th>Neigborhoods</th>\n      <th>Latitude</th>\n      <th>Longitude</th>\n    </tr>\n  </thead>\n  <tbody>\n    <tr>\n      <th>0</th>\n      <td>Wychwood (94)</td>\n      <td>43.676919</td>\n      <td>-79.425515</td>\n    </tr>\n    <tr>\n      <th>1</th>\n      <td>Yonge-Eglinton (100)</td>\n      <td>43.704689</td>\n      <td>-79.403590</td>\n    </tr>\n    <tr>\n      <th>2</th>\n      <td>Yonge-St.Clair (97)</td>\n      <td>43.687859</td>\n      <td>-79.397871</td>\n    </tr>\n    <tr>\n      <th>3</th>\n      <td>York University Heights (27)</td>\n      <td>43.765736</td>\n      <td>-79.488883</td>\n    </tr>\n    <tr>\n      <th>4</th>\n      <td>Yorkdale-Glen Park (31)</td>\n      <td>43.714672</td>\n      <td>-79.457108</td>\n    </tr>\n  </tbody>\n</table>\n</div>"
                    },
                    "metadata": {}
                }
            ]
        },
        {
            "metadata": {},
            "cell_type": "code",
            "source": "",
            "execution_count": null,
            "outputs": []
        },
        {
            "metadata": {},
            "cell_type": "markdown",
            "source": "## using Four square Api"
        },
        {
            "metadata": {},
            "cell_type": "markdown",
            "source": "# Getting the number of Medical lab in respective Neighbourhoods"
        },
        {
            "metadata": {},
            "cell_type": "code",
            "source": "lat=df['Latitude'].values\nlng=df['Longitude'].values",
            "execution_count": 5,
            "outputs": []
        },
        {
            "metadata": {},
            "cell_type": "code",
            "source": "number_of_labs=list()\n\nfor (a,b) in zip(lat, lng):\n    base='https://api.foursquare.com/v2/venues/search?'\n    x=str(a) +','+str(b)\n    pam=dict()\n    pam['client_id']='04BH1CWCTD42JACMCDGNYRMV0CAE1XTING323JBNZKDAGF4L'\n    pam['client_secret']='LTLBJ4PEOAMVSA0DYZQUAMSMI1ROXZYSMTPF2K50ZOXNMMAV'\n    pam['ll']=x\n    pam['v']='20180605'\n    pam['radius']=500\n    pam['query']= 'Medical Lab'\n    pam['limit']=100\n\n    import urllib\n    import json\n    query=urllib.parse.urlencode(pam)\n    url=base+query\n    \n    js=urllib.request.urlopen(url).read()\n    js=json.loads(js)\n\n    v=js['response']['venues']\n    labs=list()\n    for i in v:\n        x=i['name']\n        \n        labs.append(x)\n    No_of_lab=len(labs)\n    number_of_labs.append(No_of_lab)\n     \nprint(number_of_labs)",
            "execution_count": 6,
            "outputs": [
                {
                    "output_type": "stream",
                    "text": "[1, 7, 12, 2, 3, 0, 1, 1, 0, 0, 4, 0, 8, 0, 1, 0, 2, 0, 7, 0, 1, 0, 8, 2, 0, 0, 5, 0, 0, 0, 0, 8, 0, 1, 1, 0, 8, 0, 1, 7, 0, 3, 2, 0, 1, 5, 0, 0, 0, 0, 3, 1, 1, 4, 2, 0, 3, 2, 1, 6, 29, 0, 3, 0, 2, 0, 0, 0, 0, 0, 0, 0, 1, 2, 0, 0, 3, 1, 8, 0, 0, 50, 0, 0, 5, 0, 0, 0, 1, 3, 4, 0, 0, 1, 4, 0, 0, 1, 50, 0, 0, 0, 6, 3, 1, 1, 0, 1, 0, 1, 5, 0, 0, 0, 0, 0, 2, 0, 2, 1, 2, 2, 1, 1, 0, 0, 0, 1, 0, 1, 0, 5, 1, 1, 1, 0, 34, 1, 0, 5]\n",
                    "name": "stdout"
                }
            ]
        },
        {
            "metadata": {},
            "cell_type": "code",
            "source": "df['No_of_Labs']=number_of_labs\ndf.head()",
            "execution_count": 7,
            "outputs": [
                {
                    "output_type": "stream",
                    "text": "/opt/conda/envs/Python36/lib/python3.6/site-packages/ipykernel/__main__.py:1: SettingWithCopyWarning: \nA value is trying to be set on a copy of a slice from a DataFrame.\nTry using .loc[row_indexer,col_indexer] = value instead\n\nSee the caveats in the documentation: http://pandas.pydata.org/pandas-docs/stable/indexing.html#indexing-view-versus-copy\n  if __name__ == '__main__':\n",
                    "name": "stderr"
                },
                {
                    "output_type": "execute_result",
                    "execution_count": 7,
                    "data": {
                        "text/plain": "                   Neigborhoods   Latitude  Longitude  No_of_Labs\n0                 Wychwood (94)  43.676919 -79.425515           1\n1          Yonge-Eglinton (100)  43.704689 -79.403590           7\n2           Yonge-St.Clair (97)  43.687859 -79.397871          12\n3  York University Heights (27)  43.765736 -79.488883           2\n4       Yorkdale-Glen Park (31)  43.714672 -79.457108           3",
                        "text/html": "<div>\n<style scoped>\n    .dataframe tbody tr th:only-of-type {\n        vertical-align: middle;\n    }\n\n    .dataframe tbody tr th {\n        vertical-align: top;\n    }\n\n    .dataframe thead th {\n        text-align: right;\n    }\n</style>\n<table border=\"1\" class=\"dataframe\">\n  <thead>\n    <tr style=\"text-align: right;\">\n      <th></th>\n      <th>Neigborhoods</th>\n      <th>Latitude</th>\n      <th>Longitude</th>\n      <th>No_of_Labs</th>\n    </tr>\n  </thead>\n  <tbody>\n    <tr>\n      <th>0</th>\n      <td>Wychwood (94)</td>\n      <td>43.676919</td>\n      <td>-79.425515</td>\n      <td>1</td>\n    </tr>\n    <tr>\n      <th>1</th>\n      <td>Yonge-Eglinton (100)</td>\n      <td>43.704689</td>\n      <td>-79.403590</td>\n      <td>7</td>\n    </tr>\n    <tr>\n      <th>2</th>\n      <td>Yonge-St.Clair (97)</td>\n      <td>43.687859</td>\n      <td>-79.397871</td>\n      <td>12</td>\n    </tr>\n    <tr>\n      <th>3</th>\n      <td>York University Heights (27)</td>\n      <td>43.765736</td>\n      <td>-79.488883</td>\n      <td>2</td>\n    </tr>\n    <tr>\n      <th>4</th>\n      <td>Yorkdale-Glen Park (31)</td>\n      <td>43.714672</td>\n      <td>-79.457108</td>\n      <td>3</td>\n    </tr>\n  </tbody>\n</table>\n</div>"
                    },
                    "metadata": {}
                }
            ]
        },
        {
            "metadata": {},
            "cell_type": "markdown",
            "source": "# Getting Number of Hospitals in each Neighborhood"
        },
        {
            "metadata": {},
            "cell_type": "code",
            "source": "number_of_Hospitals=list()\n\nfor (a,b) in zip(lat, lng):\n    base='https://api.foursquare.com/v2/venues/search?'\n    x=str(a) +','+str(b)\n    pam=dict()\n    pam['client_id']='04BH1CWCTD42JACMCDGNYRMV0CAE1XTING323JBNZKDAGF4L'\n    pam['client_secret']='LTLBJ4PEOAMVSA0DYZQUAMSMI1ROXZYSMTPF2K50ZOXNMMAV'\n    pam['ll']=x\n    pam['v']='20180605'\n    pam['radius']=500\n    pam['query']= 'Hospital'\n    pam['limit']=100\n\n    import urllib\n    import json\n    query=urllib.parse.urlencode(pam)\n    url=base+query\n    \n    js=urllib.request.urlopen(url).read()\n    js=json.loads(js)\n\n    v=js['response']['venues']\n    hospital=list()\n    for i in v:\n        x=i['name']\n        \n        hospital.append(x)\n    No_of_hospitals=len(hospital)\n    number_of_Hospitals.append(No_of_hospitals)\n     \nprint(number_of_Hospitals)",
            "execution_count": 8,
            "outputs": [
                {
                    "output_type": "stream",
                    "text": "[0, 0, 1, 1, 0, 0, 1, 3, 1, 0, 1, 0, 0, 0, 1, 0, 0, 5, 4, 0, 0, 2, 2, 0, 1, 0, 1, 0, 0, 0, 0, 2, 0, 0, 2, 0, 1, 0, 0, 1, 0, 0, 2, 1, 0, 1, 0, 0, 1, 0, 0, 1, 0, 1, 1, 1, 2, 0, 0, 1, 0, 0, 0, 0, 0, 0, 0, 0, 0, 1, 0, 0, 1, 1, 1, 0, 0, 0, 1, 1, 0, 50, 0, 0, 1, 0, 0, 0, 0, 2, 1, 0, 0, 0, 0, 0, 0, 0, 14, 1, 0, 0, 0, 0, 1, 0, 0, 0, 0, 0, 1, 1, 0, 0, 1, 0, 0, 0, 0, 0, 0, 2, 0, 0, 0, 0, 0, 0, 0, 0, 0, 0, 1, 1, 0, 0, 4, 0, 0, 0]\n",
                    "name": "stdout"
                }
            ]
        },
        {
            "metadata": {},
            "cell_type": "code",
            "source": "df['No_of_Hospitals']=number_of_Hospitals\ndf.head()",
            "execution_count": 9,
            "outputs": [
                {
                    "output_type": "stream",
                    "text": "/opt/conda/envs/Python36/lib/python3.6/site-packages/ipykernel/__main__.py:1: SettingWithCopyWarning: \nA value is trying to be set on a copy of a slice from a DataFrame.\nTry using .loc[row_indexer,col_indexer] = value instead\n\nSee the caveats in the documentation: http://pandas.pydata.org/pandas-docs/stable/indexing.html#indexing-view-versus-copy\n  if __name__ == '__main__':\n",
                    "name": "stderr"
                },
                {
                    "output_type": "execute_result",
                    "execution_count": 9,
                    "data": {
                        "text/plain": "                   Neigborhoods   Latitude  Longitude  No_of_Labs  \\\n0                 Wychwood (94)  43.676919 -79.425515           1   \n1          Yonge-Eglinton (100)  43.704689 -79.403590           7   \n2           Yonge-St.Clair (97)  43.687859 -79.397871          12   \n3  York University Heights (27)  43.765736 -79.488883           2   \n4       Yorkdale-Glen Park (31)  43.714672 -79.457108           3   \n\n   No_of_Hospitals  \n0                0  \n1                0  \n2                1  \n3                1  \n4                0  ",
                        "text/html": "<div>\n<style scoped>\n    .dataframe tbody tr th:only-of-type {\n        vertical-align: middle;\n    }\n\n    .dataframe tbody tr th {\n        vertical-align: top;\n    }\n\n    .dataframe thead th {\n        text-align: right;\n    }\n</style>\n<table border=\"1\" class=\"dataframe\">\n  <thead>\n    <tr style=\"text-align: right;\">\n      <th></th>\n      <th>Neigborhoods</th>\n      <th>Latitude</th>\n      <th>Longitude</th>\n      <th>No_of_Labs</th>\n      <th>No_of_Hospitals</th>\n    </tr>\n  </thead>\n  <tbody>\n    <tr>\n      <th>0</th>\n      <td>Wychwood (94)</td>\n      <td>43.676919</td>\n      <td>-79.425515</td>\n      <td>1</td>\n      <td>0</td>\n    </tr>\n    <tr>\n      <th>1</th>\n      <td>Yonge-Eglinton (100)</td>\n      <td>43.704689</td>\n      <td>-79.403590</td>\n      <td>7</td>\n      <td>0</td>\n    </tr>\n    <tr>\n      <th>2</th>\n      <td>Yonge-St.Clair (97)</td>\n      <td>43.687859</td>\n      <td>-79.397871</td>\n      <td>12</td>\n      <td>1</td>\n    </tr>\n    <tr>\n      <th>3</th>\n      <td>York University Heights (27)</td>\n      <td>43.765736</td>\n      <td>-79.488883</td>\n      <td>2</td>\n      <td>1</td>\n    </tr>\n    <tr>\n      <th>4</th>\n      <td>Yorkdale-Glen Park (31)</td>\n      <td>43.714672</td>\n      <td>-79.457108</td>\n      <td>3</td>\n      <td>0</td>\n    </tr>\n  </tbody>\n</table>\n</div>"
                    },
                    "metadata": {}
                }
            ]
        },
        {
            "metadata": {},
            "cell_type": "markdown",
            "source": "# Adding the crime rate dataset per Neighborhood"
        },
        {
            "metadata": {},
            "cell_type": "code",
            "source": "\nbody = client_36e28abdab9244e0a1733d951e0e413b.get_object(Bucket='week4assignment-donotdelete-pr-pqw0layktd3fe0',Key='CrimebyNeighbhToronto2019.csv')['Body']\n# add missing __iter__ method, so pandas accepts body as file-like object\nif not hasattr(body, \"__iter__\"): body.__iter__ = types.MethodType( __iter__, body )\n\ndf_data_2 = pd.read_csv(body)\ndf_data_2.head()\n",
            "execution_count": 10,
            "outputs": [
                {
                    "output_type": "execute_result",
                    "execution_count": 10,
                    "data": {
                        "text/plain": "   OBJECTID_1  OBJECTID               Neighbourh  Hood_ID  Population  \\\n0           1         1           Yonge-St.Clair       97       12528   \n1           2         2  York University Heights       27       27593   \n2           3         3         Lansing-Westgate       38       16164   \n3           4         4       Yorkdale-Glen Park       31       14804   \n4           5         5      Stonegate-Queensway       16       25051   \n\n   Assault_20  Assault__1  Assault__2  Assault__3  Assault__4  ...  \\\n0          20          29          39          27          34  ...   \n1         271         296         361         344         357  ...   \n2          44          80          68          85          75  ...   \n3         106         136         174         161         175  ...   \n4          88          71          76          95          87  ...   \n\n   TheftOve_3  TheftOve_4  TheftOve_5  TheftOve_6  TheftOve_7  TheftOve_8  \\\n0           0           3           6         4.3        1.00        47.9   \n1          39          38          28        36.3       -0.26       101.5   \n2          11           6          11         7.0        0.83        68.1   \n3          23          20          29        22.5        0.45       195.9   \n4           6           7           4         6.0       -0.43        16.0   \n\n     Shape__Are    Shape__Len   Shape__Area  Shape__Length  \n0  1.161315e+06   5873.270582  1.161315e+06    5873.270507  \n1  1.324666e+07  18504.777326  1.324666e+07   18504.777616  \n2  5.346186e+06  11112.109625  5.346186e+06   11112.109419  \n3  6.038326e+06  10079.426920  6.038326e+06   10079.426837  \n4  7.946202e+06  11853.189878  7.946202e+06   11853.189803  \n\n[5 rows x 63 columns]",
                        "text/html": "<div>\n<style scoped>\n    .dataframe tbody tr th:only-of-type {\n        vertical-align: middle;\n    }\n\n    .dataframe tbody tr th {\n        vertical-align: top;\n    }\n\n    .dataframe thead th {\n        text-align: right;\n    }\n</style>\n<table border=\"1\" class=\"dataframe\">\n  <thead>\n    <tr style=\"text-align: right;\">\n      <th></th>\n      <th>OBJECTID_1</th>\n      <th>OBJECTID</th>\n      <th>Neighbourh</th>\n      <th>Hood_ID</th>\n      <th>Population</th>\n      <th>Assault_20</th>\n      <th>Assault__1</th>\n      <th>Assault__2</th>\n      <th>Assault__3</th>\n      <th>Assault__4</th>\n      <th>...</th>\n      <th>TheftOve_3</th>\n      <th>TheftOve_4</th>\n      <th>TheftOve_5</th>\n      <th>TheftOve_6</th>\n      <th>TheftOve_7</th>\n      <th>TheftOve_8</th>\n      <th>Shape__Are</th>\n      <th>Shape__Len</th>\n      <th>Shape__Area</th>\n      <th>Shape__Length</th>\n    </tr>\n  </thead>\n  <tbody>\n    <tr>\n      <th>0</th>\n      <td>1</td>\n      <td>1</td>\n      <td>Yonge-St.Clair</td>\n      <td>97</td>\n      <td>12528</td>\n      <td>20</td>\n      <td>29</td>\n      <td>39</td>\n      <td>27</td>\n      <td>34</td>\n      <td>...</td>\n      <td>0</td>\n      <td>3</td>\n      <td>6</td>\n      <td>4.3</td>\n      <td>1.00</td>\n      <td>47.9</td>\n      <td>1.161315e+06</td>\n      <td>5873.270582</td>\n      <td>1.161315e+06</td>\n      <td>5873.270507</td>\n    </tr>\n    <tr>\n      <th>1</th>\n      <td>2</td>\n      <td>2</td>\n      <td>York University Heights</td>\n      <td>27</td>\n      <td>27593</td>\n      <td>271</td>\n      <td>296</td>\n      <td>361</td>\n      <td>344</td>\n      <td>357</td>\n      <td>...</td>\n      <td>39</td>\n      <td>38</td>\n      <td>28</td>\n      <td>36.3</td>\n      <td>-0.26</td>\n      <td>101.5</td>\n      <td>1.324666e+07</td>\n      <td>18504.777326</td>\n      <td>1.324666e+07</td>\n      <td>18504.777616</td>\n    </tr>\n    <tr>\n      <th>2</th>\n      <td>3</td>\n      <td>3</td>\n      <td>Lansing-Westgate</td>\n      <td>38</td>\n      <td>16164</td>\n      <td>44</td>\n      <td>80</td>\n      <td>68</td>\n      <td>85</td>\n      <td>75</td>\n      <td>...</td>\n      <td>11</td>\n      <td>6</td>\n      <td>11</td>\n      <td>7.0</td>\n      <td>0.83</td>\n      <td>68.1</td>\n      <td>5.346186e+06</td>\n      <td>11112.109625</td>\n      <td>5.346186e+06</td>\n      <td>11112.109419</td>\n    </tr>\n    <tr>\n      <th>3</th>\n      <td>4</td>\n      <td>4</td>\n      <td>Yorkdale-Glen Park</td>\n      <td>31</td>\n      <td>14804</td>\n      <td>106</td>\n      <td>136</td>\n      <td>174</td>\n      <td>161</td>\n      <td>175</td>\n      <td>...</td>\n      <td>23</td>\n      <td>20</td>\n      <td>29</td>\n      <td>22.5</td>\n      <td>0.45</td>\n      <td>195.9</td>\n      <td>6.038326e+06</td>\n      <td>10079.426920</td>\n      <td>6.038326e+06</td>\n      <td>10079.426837</td>\n    </tr>\n    <tr>\n      <th>4</th>\n      <td>5</td>\n      <td>5</td>\n      <td>Stonegate-Queensway</td>\n      <td>16</td>\n      <td>25051</td>\n      <td>88</td>\n      <td>71</td>\n      <td>76</td>\n      <td>95</td>\n      <td>87</td>\n      <td>...</td>\n      <td>6</td>\n      <td>7</td>\n      <td>4</td>\n      <td>6.0</td>\n      <td>-0.43</td>\n      <td>16.0</td>\n      <td>7.946202e+06</td>\n      <td>11853.189878</td>\n      <td>7.946202e+06</td>\n      <td>11853.189803</td>\n    </tr>\n  </tbody>\n</table>\n<p>5 rows \u00d7 63 columns</p>\n</div>"
                    },
                    "metadata": {}
                }
            ]
        },
        {
            "metadata": {},
            "cell_type": "code",
            "source": "df2=df_data_2.drop(['OBJECTID_1','OBJECTID','Hood_ID','Population','Shape__Are','Shape__Len','Shape__Area','Shape__Length'], \n                   axis=1)\ndf2.head()",
            "execution_count": 11,
            "outputs": [
                {
                    "output_type": "execute_result",
                    "execution_count": 11,
                    "data": {
                        "text/plain": "                Neighbourh  Assault_20  Assault__1  Assault__2  Assault__3  \\\n0           Yonge-St.Clair          20          29          39          27   \n1  York University Heights         271         296         361         344   \n2         Lansing-Westgate          44          80          68          85   \n3       Yorkdale-Glen Park         106         136         174         161   \n4      Stonegate-Queensway          88          71          76          95   \n\n   Assault__4  Assault__5  Assault_AV  Assault_CH  Assault_Ra  ...  \\\n0          34          37        31.0        0.09       295.3  ...   \n1         357         370       333.2        0.04      1340.9  ...   \n2          75          72        70.7       -0.04       445.4  ...   \n3         175         209       160.2        0.19      1411.8  ...   \n4          87          82        83.2       -0.06       327.3  ...   \n\n   Robbery_Ra  TheftOver_  TheftOve_1  TheftOve_2  TheftOve_3  TheftOve_4  \\\n0        31.9           4           5           8           0           3   \n1       286.3          30          46          37          39          38   \n2        68.1           4           5           5          11           6   \n3       283.7          23          14          26          23          20   \n4        87.8           7           8           4           6           7   \n\n   TheftOve_5  TheftOve_6  TheftOve_7  TheftOve_8  \n0           6         4.3        1.00        47.9  \n1          28        36.3       -0.26       101.5  \n2          11         7.0        0.83        68.1  \n3          29        22.5        0.45       195.9  \n4           4         6.0       -0.43        16.0  \n\n[5 rows x 55 columns]",
                        "text/html": "<div>\n<style scoped>\n    .dataframe tbody tr th:only-of-type {\n        vertical-align: middle;\n    }\n\n    .dataframe tbody tr th {\n        vertical-align: top;\n    }\n\n    .dataframe thead th {\n        text-align: right;\n    }\n</style>\n<table border=\"1\" class=\"dataframe\">\n  <thead>\n    <tr style=\"text-align: right;\">\n      <th></th>\n      <th>Neighbourh</th>\n      <th>Assault_20</th>\n      <th>Assault__1</th>\n      <th>Assault__2</th>\n      <th>Assault__3</th>\n      <th>Assault__4</th>\n      <th>Assault__5</th>\n      <th>Assault_AV</th>\n      <th>Assault_CH</th>\n      <th>Assault_Ra</th>\n      <th>...</th>\n      <th>Robbery_Ra</th>\n      <th>TheftOver_</th>\n      <th>TheftOve_1</th>\n      <th>TheftOve_2</th>\n      <th>TheftOve_3</th>\n      <th>TheftOve_4</th>\n      <th>TheftOve_5</th>\n      <th>TheftOve_6</th>\n      <th>TheftOve_7</th>\n      <th>TheftOve_8</th>\n    </tr>\n  </thead>\n  <tbody>\n    <tr>\n      <th>0</th>\n      <td>Yonge-St.Clair</td>\n      <td>20</td>\n      <td>29</td>\n      <td>39</td>\n      <td>27</td>\n      <td>34</td>\n      <td>37</td>\n      <td>31.0</td>\n      <td>0.09</td>\n      <td>295.3</td>\n      <td>...</td>\n      <td>31.9</td>\n      <td>4</td>\n      <td>5</td>\n      <td>8</td>\n      <td>0</td>\n      <td>3</td>\n      <td>6</td>\n      <td>4.3</td>\n      <td>1.00</td>\n      <td>47.9</td>\n    </tr>\n    <tr>\n      <th>1</th>\n      <td>York University Heights</td>\n      <td>271</td>\n      <td>296</td>\n      <td>361</td>\n      <td>344</td>\n      <td>357</td>\n      <td>370</td>\n      <td>333.2</td>\n      <td>0.04</td>\n      <td>1340.9</td>\n      <td>...</td>\n      <td>286.3</td>\n      <td>30</td>\n      <td>46</td>\n      <td>37</td>\n      <td>39</td>\n      <td>38</td>\n      <td>28</td>\n      <td>36.3</td>\n      <td>-0.26</td>\n      <td>101.5</td>\n    </tr>\n    <tr>\n      <th>2</th>\n      <td>Lansing-Westgate</td>\n      <td>44</td>\n      <td>80</td>\n      <td>68</td>\n      <td>85</td>\n      <td>75</td>\n      <td>72</td>\n      <td>70.7</td>\n      <td>-0.04</td>\n      <td>445.4</td>\n      <td>...</td>\n      <td>68.1</td>\n      <td>4</td>\n      <td>5</td>\n      <td>5</td>\n      <td>11</td>\n      <td>6</td>\n      <td>11</td>\n      <td>7.0</td>\n      <td>0.83</td>\n      <td>68.1</td>\n    </tr>\n    <tr>\n      <th>3</th>\n      <td>Yorkdale-Glen Park</td>\n      <td>106</td>\n      <td>136</td>\n      <td>174</td>\n      <td>161</td>\n      <td>175</td>\n      <td>209</td>\n      <td>160.2</td>\n      <td>0.19</td>\n      <td>1411.8</td>\n      <td>...</td>\n      <td>283.7</td>\n      <td>23</td>\n      <td>14</td>\n      <td>26</td>\n      <td>23</td>\n      <td>20</td>\n      <td>29</td>\n      <td>22.5</td>\n      <td>0.45</td>\n      <td>195.9</td>\n    </tr>\n    <tr>\n      <th>4</th>\n      <td>Stonegate-Queensway</td>\n      <td>88</td>\n      <td>71</td>\n      <td>76</td>\n      <td>95</td>\n      <td>87</td>\n      <td>82</td>\n      <td>83.2</td>\n      <td>-0.06</td>\n      <td>327.3</td>\n      <td>...</td>\n      <td>87.8</td>\n      <td>7</td>\n      <td>8</td>\n      <td>4</td>\n      <td>6</td>\n      <td>7</td>\n      <td>4</td>\n      <td>6.0</td>\n      <td>-0.43</td>\n      <td>16.0</td>\n    </tr>\n  </tbody>\n</table>\n<p>5 rows \u00d7 55 columns</p>\n</div>"
                    },
                    "metadata": {}
                }
            ]
        },
        {
            "metadata": {},
            "cell_type": "code",
            "source": "df2['Total_No_of_Crime']=df2.sum(axis=1)\ndf2.head()",
            "execution_count": 12,
            "outputs": [
                {
                    "output_type": "execute_result",
                    "execution_count": 12,
                    "data": {
                        "text/plain": "                Neighbourh  Assault_20  Assault__1  Assault__2  Assault__3  \\\n0           Yonge-St.Clair          20          29          39          27   \n1  York University Heights         271         296         361         344   \n2         Lansing-Westgate          44          80          68          85   \n3       Yorkdale-Glen Park         106         136         174         161   \n4      Stonegate-Queensway          88          71          76          95   \n\n   Assault__4  Assault__5  Assault_AV  Assault_CH  Assault_Ra  ...  \\\n0          34          37        31.0        0.09       295.3  ...   \n1         357         370       333.2        0.04      1340.9  ...   \n2          75          72        70.7       -0.04       445.4  ...   \n3         175         209       160.2        0.19      1411.8  ...   \n4          87          82        83.2       -0.06       327.3  ...   \n\n   TheftOver_  TheftOve_1  TheftOve_2  TheftOve_3  TheftOve_4  TheftOve_5  \\\n0           4           5           8           0           3           6   \n1          30          46          37          39          38          28   \n2           4           5           5          11           6          11   \n3          23          14          26          23          20          29   \n4           7           8           4           6           7           4   \n\n   TheftOve_6  TheftOve_7  TheftOve_8  Total_No_of_Crime  \n0         4.3        1.00        47.9            1128.16  \n1        36.3       -0.26       101.5            7300.74  \n2         7.0        0.83        68.1            2116.38  \n3        22.5        0.45       195.9            5217.27  \n4         6.0       -0.43        16.0            2161.83  \n\n[5 rows x 56 columns]",
                        "text/html": "<div>\n<style scoped>\n    .dataframe tbody tr th:only-of-type {\n        vertical-align: middle;\n    }\n\n    .dataframe tbody tr th {\n        vertical-align: top;\n    }\n\n    .dataframe thead th {\n        text-align: right;\n    }\n</style>\n<table border=\"1\" class=\"dataframe\">\n  <thead>\n    <tr style=\"text-align: right;\">\n      <th></th>\n      <th>Neighbourh</th>\n      <th>Assault_20</th>\n      <th>Assault__1</th>\n      <th>Assault__2</th>\n      <th>Assault__3</th>\n      <th>Assault__4</th>\n      <th>Assault__5</th>\n      <th>Assault_AV</th>\n      <th>Assault_CH</th>\n      <th>Assault_Ra</th>\n      <th>...</th>\n      <th>TheftOver_</th>\n      <th>TheftOve_1</th>\n      <th>TheftOve_2</th>\n      <th>TheftOve_3</th>\n      <th>TheftOve_4</th>\n      <th>TheftOve_5</th>\n      <th>TheftOve_6</th>\n      <th>TheftOve_7</th>\n      <th>TheftOve_8</th>\n      <th>Total_No_of_Crime</th>\n    </tr>\n  </thead>\n  <tbody>\n    <tr>\n      <th>0</th>\n      <td>Yonge-St.Clair</td>\n      <td>20</td>\n      <td>29</td>\n      <td>39</td>\n      <td>27</td>\n      <td>34</td>\n      <td>37</td>\n      <td>31.0</td>\n      <td>0.09</td>\n      <td>295.3</td>\n      <td>...</td>\n      <td>4</td>\n      <td>5</td>\n      <td>8</td>\n      <td>0</td>\n      <td>3</td>\n      <td>6</td>\n      <td>4.3</td>\n      <td>1.00</td>\n      <td>47.9</td>\n      <td>1128.16</td>\n    </tr>\n    <tr>\n      <th>1</th>\n      <td>York University Heights</td>\n      <td>271</td>\n      <td>296</td>\n      <td>361</td>\n      <td>344</td>\n      <td>357</td>\n      <td>370</td>\n      <td>333.2</td>\n      <td>0.04</td>\n      <td>1340.9</td>\n      <td>...</td>\n      <td>30</td>\n      <td>46</td>\n      <td>37</td>\n      <td>39</td>\n      <td>38</td>\n      <td>28</td>\n      <td>36.3</td>\n      <td>-0.26</td>\n      <td>101.5</td>\n      <td>7300.74</td>\n    </tr>\n    <tr>\n      <th>2</th>\n      <td>Lansing-Westgate</td>\n      <td>44</td>\n      <td>80</td>\n      <td>68</td>\n      <td>85</td>\n      <td>75</td>\n      <td>72</td>\n      <td>70.7</td>\n      <td>-0.04</td>\n      <td>445.4</td>\n      <td>...</td>\n      <td>4</td>\n      <td>5</td>\n      <td>5</td>\n      <td>11</td>\n      <td>6</td>\n      <td>11</td>\n      <td>7.0</td>\n      <td>0.83</td>\n      <td>68.1</td>\n      <td>2116.38</td>\n    </tr>\n    <tr>\n      <th>3</th>\n      <td>Yorkdale-Glen Park</td>\n      <td>106</td>\n      <td>136</td>\n      <td>174</td>\n      <td>161</td>\n      <td>175</td>\n      <td>209</td>\n      <td>160.2</td>\n      <td>0.19</td>\n      <td>1411.8</td>\n      <td>...</td>\n      <td>23</td>\n      <td>14</td>\n      <td>26</td>\n      <td>23</td>\n      <td>20</td>\n      <td>29</td>\n      <td>22.5</td>\n      <td>0.45</td>\n      <td>195.9</td>\n      <td>5217.27</td>\n    </tr>\n    <tr>\n      <th>4</th>\n      <td>Stonegate-Queensway</td>\n      <td>88</td>\n      <td>71</td>\n      <td>76</td>\n      <td>95</td>\n      <td>87</td>\n      <td>82</td>\n      <td>83.2</td>\n      <td>-0.06</td>\n      <td>327.3</td>\n      <td>...</td>\n      <td>7</td>\n      <td>8</td>\n      <td>4</td>\n      <td>6</td>\n      <td>7</td>\n      <td>4</td>\n      <td>6.0</td>\n      <td>-0.43</td>\n      <td>16.0</td>\n      <td>2161.83</td>\n    </tr>\n  </tbody>\n</table>\n<p>5 rows \u00d7 56 columns</p>\n</div>"
                    },
                    "metadata": {}
                }
            ]
        },
        {
            "metadata": {},
            "cell_type": "code",
            "source": "",
            "execution_count": null,
            "outputs": []
        },
        {
            "metadata": {},
            "cell_type": "code",
            "source": "df3=df2[['Neighbourh','Total_No_of_Crime']]\ndf3.sort_values('Neighbourh', inplace=True)\ndf3.head()",
            "execution_count": 13,
            "outputs": [
                {
                    "output_type": "stream",
                    "text": "/opt/conda/envs/Python36/lib/python3.6/site-packages/ipykernel/__main__.py:2: SettingWithCopyWarning: \nA value is trying to be set on a copy of a slice from a DataFrame\n\nSee the caveats in the documentation: http://pandas.pydata.org/pandas-docs/stable/indexing.html#indexing-view-versus-copy\n  from ipykernel import kernelapp as app\n",
                    "name": "stderr"
                },
                {
                    "output_type": "execute_result",
                    "execution_count": 13,
                    "data": {
                        "text/plain": "                      Neighbourh  Total_No_of_Crime\n79               Agincourt North            2085.44\n80  Agincourt South-Malvern West            3311.16\n86                     Alderwood            1366.61\n56                         Annex            5384.88\n84             Banbury-Don Mills            2205.55",
                        "text/html": "<div>\n<style scoped>\n    .dataframe tbody tr th:only-of-type {\n        vertical-align: middle;\n    }\n\n    .dataframe tbody tr th {\n        vertical-align: top;\n    }\n\n    .dataframe thead th {\n        text-align: right;\n    }\n</style>\n<table border=\"1\" class=\"dataframe\">\n  <thead>\n    <tr style=\"text-align: right;\">\n      <th></th>\n      <th>Neighbourh</th>\n      <th>Total_No_of_Crime</th>\n    </tr>\n  </thead>\n  <tbody>\n    <tr>\n      <th>79</th>\n      <td>Agincourt North</td>\n      <td>2085.44</td>\n    </tr>\n    <tr>\n      <th>80</th>\n      <td>Agincourt South-Malvern West</td>\n      <td>3311.16</td>\n    </tr>\n    <tr>\n      <th>86</th>\n      <td>Alderwood</td>\n      <td>1366.61</td>\n    </tr>\n    <tr>\n      <th>56</th>\n      <td>Annex</td>\n      <td>5384.88</td>\n    </tr>\n    <tr>\n      <th>84</th>\n      <td>Banbury-Don Mills</td>\n      <td>2205.55</td>\n    </tr>\n  </tbody>\n</table>\n</div>"
                    },
                    "metadata": {}
                }
            ]
        },
        {
            "metadata": {},
            "cell_type": "code",
            "source": "df3.reset_index(inplace=True)\ndf3.head()",
            "execution_count": 14,
            "outputs": [
                {
                    "output_type": "execute_result",
                    "execution_count": 14,
                    "data": {
                        "text/plain": "   index                    Neighbourh  Total_No_of_Crime\n0     79               Agincourt North            2085.44\n1     80  Agincourt South-Malvern West            3311.16\n2     86                     Alderwood            1366.61\n3     56                         Annex            5384.88\n4     84             Banbury-Don Mills            2205.55",
                        "text/html": "<div>\n<style scoped>\n    .dataframe tbody tr th:only-of-type {\n        vertical-align: middle;\n    }\n\n    .dataframe tbody tr th {\n        vertical-align: top;\n    }\n\n    .dataframe thead th {\n        text-align: right;\n    }\n</style>\n<table border=\"1\" class=\"dataframe\">\n  <thead>\n    <tr style=\"text-align: right;\">\n      <th></th>\n      <th>index</th>\n      <th>Neighbourh</th>\n      <th>Total_No_of_Crime</th>\n    </tr>\n  </thead>\n  <tbody>\n    <tr>\n      <th>0</th>\n      <td>79</td>\n      <td>Agincourt North</td>\n      <td>2085.44</td>\n    </tr>\n    <tr>\n      <th>1</th>\n      <td>80</td>\n      <td>Agincourt South-Malvern West</td>\n      <td>3311.16</td>\n    </tr>\n    <tr>\n      <th>2</th>\n      <td>86</td>\n      <td>Alderwood</td>\n      <td>1366.61</td>\n    </tr>\n    <tr>\n      <th>3</th>\n      <td>56</td>\n      <td>Annex</td>\n      <td>5384.88</td>\n    </tr>\n    <tr>\n      <th>4</th>\n      <td>84</td>\n      <td>Banbury-Don Mills</td>\n      <td>2205.55</td>\n    </tr>\n  </tbody>\n</table>\n</div>"
                    },
                    "metadata": {}
                }
            ]
        },
        {
            "metadata": {},
            "cell_type": "code",
            "source": "df3.drop('index',axis=1, inplace=True)\ndf3.head()",
            "execution_count": 15,
            "outputs": [
                {
                    "output_type": "stream",
                    "text": "/opt/conda/envs/Python36/lib/python3.6/site-packages/pandas/core/frame.py:3940: SettingWithCopyWarning: \nA value is trying to be set on a copy of a slice from a DataFrame\n\nSee the caveats in the documentation: http://pandas.pydata.org/pandas-docs/stable/indexing.html#indexing-view-versus-copy\n  errors=errors)\n",
                    "name": "stderr"
                },
                {
                    "output_type": "execute_result",
                    "execution_count": 15,
                    "data": {
                        "text/plain": "                     Neighbourh  Total_No_of_Crime\n0               Agincourt North            2085.44\n1  Agincourt South-Malvern West            3311.16\n2                     Alderwood            1366.61\n3                         Annex            5384.88\n4             Banbury-Don Mills            2205.55",
                        "text/html": "<div>\n<style scoped>\n    .dataframe tbody tr th:only-of-type {\n        vertical-align: middle;\n    }\n\n    .dataframe tbody tr th {\n        vertical-align: top;\n    }\n\n    .dataframe thead th {\n        text-align: right;\n    }\n</style>\n<table border=\"1\" class=\"dataframe\">\n  <thead>\n    <tr style=\"text-align: right;\">\n      <th></th>\n      <th>Neighbourh</th>\n      <th>Total_No_of_Crime</th>\n    </tr>\n  </thead>\n  <tbody>\n    <tr>\n      <th>0</th>\n      <td>Agincourt North</td>\n      <td>2085.44</td>\n    </tr>\n    <tr>\n      <th>1</th>\n      <td>Agincourt South-Malvern West</td>\n      <td>3311.16</td>\n    </tr>\n    <tr>\n      <th>2</th>\n      <td>Alderwood</td>\n      <td>1366.61</td>\n    </tr>\n    <tr>\n      <th>3</th>\n      <td>Annex</td>\n      <td>5384.88</td>\n    </tr>\n    <tr>\n      <th>4</th>\n      <td>Banbury-Don Mills</td>\n      <td>2205.55</td>\n    </tr>\n  </tbody>\n</table>\n</div>"
                    },
                    "metadata": {}
                }
            ]
        },
        {
            "metadata": {},
            "cell_type": "code",
            "source": "df.sort_values('Neigborhoods', inplace=True)\ndf.reset_index(inplace=True)\ndf.drop('index',axis=1, inplace=True)\ndf.head()",
            "execution_count": 16,
            "outputs": [
                {
                    "output_type": "stream",
                    "text": "/opt/conda/envs/Python36/lib/python3.6/site-packages/ipykernel/__main__.py:1: SettingWithCopyWarning: \nA value is trying to be set on a copy of a slice from a DataFrame\n\nSee the caveats in the documentation: http://pandas.pydata.org/pandas-docs/stable/indexing.html#indexing-view-versus-copy\n  if __name__ == '__main__':\n",
                    "name": "stderr"
                },
                {
                    "output_type": "execute_result",
                    "execution_count": 16,
                    "data": {
                        "text/plain": "                         Neigborhoods   Latitude  Longitude  No_of_Labs  \\\n0               Agincourt North (129)  43.805441 -79.266712           0   \n1  Agincourt South-Malvern West (128)  43.788658 -79.265612           3   \n2                      Alderwood (20)  43.604937 -79.541611           1   \n3                          Annex (95)  43.671585 -79.404001           8   \n4              Banbury-Don Mills (42)  43.737657 -79.349718           0   \n\n   No_of_Hospitals  \n0                0  \n1                0  \n2                0  \n3                1  \n4                1  ",
                        "text/html": "<div>\n<style scoped>\n    .dataframe tbody tr th:only-of-type {\n        vertical-align: middle;\n    }\n\n    .dataframe tbody tr th {\n        vertical-align: top;\n    }\n\n    .dataframe thead th {\n        text-align: right;\n    }\n</style>\n<table border=\"1\" class=\"dataframe\">\n  <thead>\n    <tr style=\"text-align: right;\">\n      <th></th>\n      <th>Neigborhoods</th>\n      <th>Latitude</th>\n      <th>Longitude</th>\n      <th>No_of_Labs</th>\n      <th>No_of_Hospitals</th>\n    </tr>\n  </thead>\n  <tbody>\n    <tr>\n      <th>0</th>\n      <td>Agincourt North (129)</td>\n      <td>43.805441</td>\n      <td>-79.266712</td>\n      <td>0</td>\n      <td>0</td>\n    </tr>\n    <tr>\n      <th>1</th>\n      <td>Agincourt South-Malvern West (128)</td>\n      <td>43.788658</td>\n      <td>-79.265612</td>\n      <td>3</td>\n      <td>0</td>\n    </tr>\n    <tr>\n      <th>2</th>\n      <td>Alderwood (20)</td>\n      <td>43.604937</td>\n      <td>-79.541611</td>\n      <td>1</td>\n      <td>0</td>\n    </tr>\n    <tr>\n      <th>3</th>\n      <td>Annex (95)</td>\n      <td>43.671585</td>\n      <td>-79.404001</td>\n      <td>8</td>\n      <td>1</td>\n    </tr>\n    <tr>\n      <th>4</th>\n      <td>Banbury-Don Mills (42)</td>\n      <td>43.737657</td>\n      <td>-79.349718</td>\n      <td>0</td>\n      <td>1</td>\n    </tr>\n  </tbody>\n</table>\n</div>"
                    },
                    "metadata": {}
                }
            ]
        },
        {
            "metadata": {},
            "cell_type": "code",
            "source": "df=pd.concat([df,df3],axis=1)\ndf.head()",
            "execution_count": 17,
            "outputs": [
                {
                    "output_type": "execute_result",
                    "execution_count": 17,
                    "data": {
                        "text/plain": "                         Neigborhoods   Latitude  Longitude  No_of_Labs  \\\n0               Agincourt North (129)  43.805441 -79.266712           0   \n1  Agincourt South-Malvern West (128)  43.788658 -79.265612           3   \n2                      Alderwood (20)  43.604937 -79.541611           1   \n3                          Annex (95)  43.671585 -79.404001           8   \n4              Banbury-Don Mills (42)  43.737657 -79.349718           0   \n\n   No_of_Hospitals                    Neighbourh  Total_No_of_Crime  \n0                0               Agincourt North            2085.44  \n1                0  Agincourt South-Malvern West            3311.16  \n2                0                     Alderwood            1366.61  \n3                1                         Annex            5384.88  \n4                1             Banbury-Don Mills            2205.55  ",
                        "text/html": "<div>\n<style scoped>\n    .dataframe tbody tr th:only-of-type {\n        vertical-align: middle;\n    }\n\n    .dataframe tbody tr th {\n        vertical-align: top;\n    }\n\n    .dataframe thead th {\n        text-align: right;\n    }\n</style>\n<table border=\"1\" class=\"dataframe\">\n  <thead>\n    <tr style=\"text-align: right;\">\n      <th></th>\n      <th>Neigborhoods</th>\n      <th>Latitude</th>\n      <th>Longitude</th>\n      <th>No_of_Labs</th>\n      <th>No_of_Hospitals</th>\n      <th>Neighbourh</th>\n      <th>Total_No_of_Crime</th>\n    </tr>\n  </thead>\n  <tbody>\n    <tr>\n      <th>0</th>\n      <td>Agincourt North (129)</td>\n      <td>43.805441</td>\n      <td>-79.266712</td>\n      <td>0</td>\n      <td>0</td>\n      <td>Agincourt North</td>\n      <td>2085.44</td>\n    </tr>\n    <tr>\n      <th>1</th>\n      <td>Agincourt South-Malvern West (128)</td>\n      <td>43.788658</td>\n      <td>-79.265612</td>\n      <td>3</td>\n      <td>0</td>\n      <td>Agincourt South-Malvern West</td>\n      <td>3311.16</td>\n    </tr>\n    <tr>\n      <th>2</th>\n      <td>Alderwood (20)</td>\n      <td>43.604937</td>\n      <td>-79.541611</td>\n      <td>1</td>\n      <td>0</td>\n      <td>Alderwood</td>\n      <td>1366.61</td>\n    </tr>\n    <tr>\n      <th>3</th>\n      <td>Annex (95)</td>\n      <td>43.671585</td>\n      <td>-79.404001</td>\n      <td>8</td>\n      <td>1</td>\n      <td>Annex</td>\n      <td>5384.88</td>\n    </tr>\n    <tr>\n      <th>4</th>\n      <td>Banbury-Don Mills (42)</td>\n      <td>43.737657</td>\n      <td>-79.349718</td>\n      <td>0</td>\n      <td>1</td>\n      <td>Banbury-Don Mills</td>\n      <td>2205.55</td>\n    </tr>\n  </tbody>\n</table>\n</div>"
                    },
                    "metadata": {}
                }
            ]
        },
        {
            "metadata": {},
            "cell_type": "code",
            "source": "df.drop('Neighbourh',axis=1, inplace=True)\ndf.head()",
            "execution_count": 18,
            "outputs": [
                {
                    "output_type": "execute_result",
                    "execution_count": 18,
                    "data": {
                        "text/plain": "                         Neigborhoods   Latitude  Longitude  No_of_Labs  \\\n0               Agincourt North (129)  43.805441 -79.266712           0   \n1  Agincourt South-Malvern West (128)  43.788658 -79.265612           3   \n2                      Alderwood (20)  43.604937 -79.541611           1   \n3                          Annex (95)  43.671585 -79.404001           8   \n4              Banbury-Don Mills (42)  43.737657 -79.349718           0   \n\n   No_of_Hospitals  Total_No_of_Crime  \n0                0            2085.44  \n1                0            3311.16  \n2                0            1366.61  \n3                1            5384.88  \n4                1            2205.55  ",
                        "text/html": "<div>\n<style scoped>\n    .dataframe tbody tr th:only-of-type {\n        vertical-align: middle;\n    }\n\n    .dataframe tbody tr th {\n        vertical-align: top;\n    }\n\n    .dataframe thead th {\n        text-align: right;\n    }\n</style>\n<table border=\"1\" class=\"dataframe\">\n  <thead>\n    <tr style=\"text-align: right;\">\n      <th></th>\n      <th>Neigborhoods</th>\n      <th>Latitude</th>\n      <th>Longitude</th>\n      <th>No_of_Labs</th>\n      <th>No_of_Hospitals</th>\n      <th>Total_No_of_Crime</th>\n    </tr>\n  </thead>\n  <tbody>\n    <tr>\n      <th>0</th>\n      <td>Agincourt North (129)</td>\n      <td>43.805441</td>\n      <td>-79.266712</td>\n      <td>0</td>\n      <td>0</td>\n      <td>2085.44</td>\n    </tr>\n    <tr>\n      <th>1</th>\n      <td>Agincourt South-Malvern West (128)</td>\n      <td>43.788658</td>\n      <td>-79.265612</td>\n      <td>3</td>\n      <td>0</td>\n      <td>3311.16</td>\n    </tr>\n    <tr>\n      <th>2</th>\n      <td>Alderwood (20)</td>\n      <td>43.604937</td>\n      <td>-79.541611</td>\n      <td>1</td>\n      <td>0</td>\n      <td>1366.61</td>\n    </tr>\n    <tr>\n      <th>3</th>\n      <td>Annex (95)</td>\n      <td>43.671585</td>\n      <td>-79.404001</td>\n      <td>8</td>\n      <td>1</td>\n      <td>5384.88</td>\n    </tr>\n    <tr>\n      <th>4</th>\n      <td>Banbury-Don Mills (42)</td>\n      <td>43.737657</td>\n      <td>-79.349718</td>\n      <td>0</td>\n      <td>1</td>\n      <td>2205.55</td>\n    </tr>\n  </tbody>\n</table>\n</div>"
                    },
                    "metadata": {}
                }
            ]
        },
        {
            "metadata": {},
            "cell_type": "markdown",
            "source": "## Adding the population Datasets"
        },
        {
            "metadata": {},
            "cell_type": "code",
            "source": "\nbody = client_36e28abdab9244e0a1733d951e0e413b.get_object(Bucket='week4assignment-donotdelete-pr-pqw0layktd3fe0',Key='Toronto_Neighbourhoods.csv')['Body']\n# add missing __iter__ method, so pandas accepts body as file-like object\nif not hasattr(body, \"__iter__\"): body.__iter__ = types.MethodType( __iter__, body )\n\ndf_data_3 = pd.read_csv(body)\ndf_data_3.head()\n",
            "execution_count": 19,
            "outputs": [
                {
                    "output_type": "execute_result",
                    "execution_count": 19,
                    "data": {
                        "text/plain": "   OBJECTID            Neighbourhood  Total_Area  Total_Population  Pop_Males  \\\n0         1           Yonge-St.Clair         1.2             11655       5235   \n1         2  York University Heights        13.2             27715      13580   \n2         3         Lansing-Westgate         5.4             14640       6950   \n3         4       Yorkdale-Glen Park         5.9             14685       6750   \n4         5      Stonegate-Queensway         7.9             24690      11935   \n\n   Pop_Females  Pop0_4years  Pop5_9years  Pop10_14years  Pop15_19years  ...  \\\n0         6420          395          345            235            285  ...   \n1        14125         1645         1385           1380           1750  ...   \n2         7695          845          725            745            795  ...   \n3         7940          640          690            815            835  ...   \n4        12745         1395         1235           1265           1295  ...   \n\n   Language_Chinese  Language_Italian  Language_Korean  Language_Persian  \\\n0               250               120               55               120   \n1              1750              2280              265               370   \n2               995               165              580               630   \n3               640              2950               50                70   \n4               330               755              135                65   \n\n   Language_Portuguese  Language_Russian  Language_Spanish  Language_Tagalog  \\\n0                   55               180               230                95   \n1                  285               430              1475               930   \n2                   90               770               320               460   \n3                  810                85               625               605   \n4                  555               635               455               260   \n\n   Language_Tamil  Language_Urdu  \n0              10             10  \n1            1175            580  \n2              15             45  \n3             120             60  \n4              25             35  \n\n[5 rows x 39 columns]",
                        "text/html": "<div>\n<style scoped>\n    .dataframe tbody tr th:only-of-type {\n        vertical-align: middle;\n    }\n\n    .dataframe tbody tr th {\n        vertical-align: top;\n    }\n\n    .dataframe thead th {\n        text-align: right;\n    }\n</style>\n<table border=\"1\" class=\"dataframe\">\n  <thead>\n    <tr style=\"text-align: right;\">\n      <th></th>\n      <th>OBJECTID</th>\n      <th>Neighbourhood</th>\n      <th>Total_Area</th>\n      <th>Total_Population</th>\n      <th>Pop_Males</th>\n      <th>Pop_Females</th>\n      <th>Pop0_4years</th>\n      <th>Pop5_9years</th>\n      <th>Pop10_14years</th>\n      <th>Pop15_19years</th>\n      <th>...</th>\n      <th>Language_Chinese</th>\n      <th>Language_Italian</th>\n      <th>Language_Korean</th>\n      <th>Language_Persian</th>\n      <th>Language_Portuguese</th>\n      <th>Language_Russian</th>\n      <th>Language_Spanish</th>\n      <th>Language_Tagalog</th>\n      <th>Language_Tamil</th>\n      <th>Language_Urdu</th>\n    </tr>\n  </thead>\n  <tbody>\n    <tr>\n      <th>0</th>\n      <td>1</td>\n      <td>Yonge-St.Clair</td>\n      <td>1.2</td>\n      <td>11655</td>\n      <td>5235</td>\n      <td>6420</td>\n      <td>395</td>\n      <td>345</td>\n      <td>235</td>\n      <td>285</td>\n      <td>...</td>\n      <td>250</td>\n      <td>120</td>\n      <td>55</td>\n      <td>120</td>\n      <td>55</td>\n      <td>180</td>\n      <td>230</td>\n      <td>95</td>\n      <td>10</td>\n      <td>10</td>\n    </tr>\n    <tr>\n      <th>1</th>\n      <td>2</td>\n      <td>York University Heights</td>\n      <td>13.2</td>\n      <td>27715</td>\n      <td>13580</td>\n      <td>14125</td>\n      <td>1645</td>\n      <td>1385</td>\n      <td>1380</td>\n      <td>1750</td>\n      <td>...</td>\n      <td>1750</td>\n      <td>2280</td>\n      <td>265</td>\n      <td>370</td>\n      <td>285</td>\n      <td>430</td>\n      <td>1475</td>\n      <td>930</td>\n      <td>1175</td>\n      <td>580</td>\n    </tr>\n    <tr>\n      <th>2</th>\n      <td>3</td>\n      <td>Lansing-Westgate</td>\n      <td>5.4</td>\n      <td>14640</td>\n      <td>6950</td>\n      <td>7695</td>\n      <td>845</td>\n      <td>725</td>\n      <td>745</td>\n      <td>795</td>\n      <td>...</td>\n      <td>995</td>\n      <td>165</td>\n      <td>580</td>\n      <td>630</td>\n      <td>90</td>\n      <td>770</td>\n      <td>320</td>\n      <td>460</td>\n      <td>15</td>\n      <td>45</td>\n    </tr>\n    <tr>\n      <th>3</th>\n      <td>4</td>\n      <td>Yorkdale-Glen Park</td>\n      <td>5.9</td>\n      <td>14685</td>\n      <td>6750</td>\n      <td>7940</td>\n      <td>640</td>\n      <td>690</td>\n      <td>815</td>\n      <td>835</td>\n      <td>...</td>\n      <td>640</td>\n      <td>2950</td>\n      <td>50</td>\n      <td>70</td>\n      <td>810</td>\n      <td>85</td>\n      <td>625</td>\n      <td>605</td>\n      <td>120</td>\n      <td>60</td>\n    </tr>\n    <tr>\n      <th>4</th>\n      <td>5</td>\n      <td>Stonegate-Queensway</td>\n      <td>7.9</td>\n      <td>24690</td>\n      <td>11935</td>\n      <td>12745</td>\n      <td>1395</td>\n      <td>1235</td>\n      <td>1265</td>\n      <td>1295</td>\n      <td>...</td>\n      <td>330</td>\n      <td>755</td>\n      <td>135</td>\n      <td>65</td>\n      <td>555</td>\n      <td>635</td>\n      <td>455</td>\n      <td>260</td>\n      <td>25</td>\n      <td>35</td>\n    </tr>\n  </tbody>\n</table>\n<p>5 rows \u00d7 39 columns</p>\n</div>"
                    },
                    "metadata": {}
                }
            ]
        },
        {
            "metadata": {},
            "cell_type": "code",
            "source": "dfpop=df_data_3[['Neighbourhood', 'Total_Population']]\ndfpop.sort_values('Neighbourhood',inplace=True)\ndfpop.reset_index(inplace=True)\ndfpop.drop('index', axis=1, inplace=True)\ndfpop.head()",
            "execution_count": 20,
            "outputs": [
                {
                    "output_type": "stream",
                    "text": "/opt/conda/envs/Python36/lib/python3.6/site-packages/ipykernel/__main__.py:2: SettingWithCopyWarning: \nA value is trying to be set on a copy of a slice from a DataFrame\n\nSee the caveats in the documentation: http://pandas.pydata.org/pandas-docs/stable/indexing.html#indexing-view-versus-copy\n  from ipykernel import kernelapp as app\n",
                    "name": "stderr"
                },
                {
                    "output_type": "execute_result",
                    "execution_count": 20,
                    "data": {
                        "text/plain": "                  Neighbourhood  Total_Population\n0               Agincourt North             30280\n1  Agincourt South-Malvern West             21990\n2                     Alderwood             11900\n3                         Annex             29180\n4             Banbury-Don Mills             26910",
                        "text/html": "<div>\n<style scoped>\n    .dataframe tbody tr th:only-of-type {\n        vertical-align: middle;\n    }\n\n    .dataframe tbody tr th {\n        vertical-align: top;\n    }\n\n    .dataframe thead th {\n        text-align: right;\n    }\n</style>\n<table border=\"1\" class=\"dataframe\">\n  <thead>\n    <tr style=\"text-align: right;\">\n      <th></th>\n      <th>Neighbourhood</th>\n      <th>Total_Population</th>\n    </tr>\n  </thead>\n  <tbody>\n    <tr>\n      <th>0</th>\n      <td>Agincourt North</td>\n      <td>30280</td>\n    </tr>\n    <tr>\n      <th>1</th>\n      <td>Agincourt South-Malvern West</td>\n      <td>21990</td>\n    </tr>\n    <tr>\n      <th>2</th>\n      <td>Alderwood</td>\n      <td>11900</td>\n    </tr>\n    <tr>\n      <th>3</th>\n      <td>Annex</td>\n      <td>29180</td>\n    </tr>\n    <tr>\n      <th>4</th>\n      <td>Banbury-Don Mills</td>\n      <td>26910</td>\n    </tr>\n  </tbody>\n</table>\n</div>"
                    },
                    "metadata": {}
                }
            ]
        },
        {
            "metadata": {},
            "cell_type": "code",
            "source": "df=pd.concat([df,dfpop],axis=1)\ndf.head()",
            "execution_count": 21,
            "outputs": [
                {
                    "output_type": "execute_result",
                    "execution_count": 21,
                    "data": {
                        "text/plain": "                         Neigborhoods   Latitude  Longitude  No_of_Labs  \\\n0               Agincourt North (129)  43.805441 -79.266712           0   \n1  Agincourt South-Malvern West (128)  43.788658 -79.265612           3   \n2                      Alderwood (20)  43.604937 -79.541611           1   \n3                          Annex (95)  43.671585 -79.404001           8   \n4              Banbury-Don Mills (42)  43.737657 -79.349718           0   \n\n   No_of_Hospitals  Total_No_of_Crime                 Neighbourhood  \\\n0                0            2085.44               Agincourt North   \n1                0            3311.16  Agincourt South-Malvern West   \n2                0            1366.61                     Alderwood   \n3                1            5384.88                         Annex   \n4                1            2205.55             Banbury-Don Mills   \n\n   Total_Population  \n0             30280  \n1             21990  \n2             11900  \n3             29180  \n4             26910  ",
                        "text/html": "<div>\n<style scoped>\n    .dataframe tbody tr th:only-of-type {\n        vertical-align: middle;\n    }\n\n    .dataframe tbody tr th {\n        vertical-align: top;\n    }\n\n    .dataframe thead th {\n        text-align: right;\n    }\n</style>\n<table border=\"1\" class=\"dataframe\">\n  <thead>\n    <tr style=\"text-align: right;\">\n      <th></th>\n      <th>Neigborhoods</th>\n      <th>Latitude</th>\n      <th>Longitude</th>\n      <th>No_of_Labs</th>\n      <th>No_of_Hospitals</th>\n      <th>Total_No_of_Crime</th>\n      <th>Neighbourhood</th>\n      <th>Total_Population</th>\n    </tr>\n  </thead>\n  <tbody>\n    <tr>\n      <th>0</th>\n      <td>Agincourt North (129)</td>\n      <td>43.805441</td>\n      <td>-79.266712</td>\n      <td>0</td>\n      <td>0</td>\n      <td>2085.44</td>\n      <td>Agincourt North</td>\n      <td>30280</td>\n    </tr>\n    <tr>\n      <th>1</th>\n      <td>Agincourt South-Malvern West (128)</td>\n      <td>43.788658</td>\n      <td>-79.265612</td>\n      <td>3</td>\n      <td>0</td>\n      <td>3311.16</td>\n      <td>Agincourt South-Malvern West</td>\n      <td>21990</td>\n    </tr>\n    <tr>\n      <th>2</th>\n      <td>Alderwood (20)</td>\n      <td>43.604937</td>\n      <td>-79.541611</td>\n      <td>1</td>\n      <td>0</td>\n      <td>1366.61</td>\n      <td>Alderwood</td>\n      <td>11900</td>\n    </tr>\n    <tr>\n      <th>3</th>\n      <td>Annex (95)</td>\n      <td>43.671585</td>\n      <td>-79.404001</td>\n      <td>8</td>\n      <td>1</td>\n      <td>5384.88</td>\n      <td>Annex</td>\n      <td>29180</td>\n    </tr>\n    <tr>\n      <th>4</th>\n      <td>Banbury-Don Mills (42)</td>\n      <td>43.737657</td>\n      <td>-79.349718</td>\n      <td>0</td>\n      <td>1</td>\n      <td>2205.55</td>\n      <td>Banbury-Don Mills</td>\n      <td>26910</td>\n    </tr>\n  </tbody>\n</table>\n</div>"
                    },
                    "metadata": {}
                }
            ]
        },
        {
            "metadata": {},
            "cell_type": "code",
            "source": "df.drop('Neighbourhood', axis=1, inplace=True)\ndf.head()",
            "execution_count": 22,
            "outputs": [
                {
                    "output_type": "execute_result",
                    "execution_count": 22,
                    "data": {
                        "text/plain": "                         Neigborhoods   Latitude  Longitude  No_of_Labs  \\\n0               Agincourt North (129)  43.805441 -79.266712           0   \n1  Agincourt South-Malvern West (128)  43.788658 -79.265612           3   \n2                      Alderwood (20)  43.604937 -79.541611           1   \n3                          Annex (95)  43.671585 -79.404001           8   \n4              Banbury-Don Mills (42)  43.737657 -79.349718           0   \n\n   No_of_Hospitals  Total_No_of_Crime  Total_Population  \n0                0            2085.44             30280  \n1                0            3311.16             21990  \n2                0            1366.61             11900  \n3                1            5384.88             29180  \n4                1            2205.55             26910  ",
                        "text/html": "<div>\n<style scoped>\n    .dataframe tbody tr th:only-of-type {\n        vertical-align: middle;\n    }\n\n    .dataframe tbody tr th {\n        vertical-align: top;\n    }\n\n    .dataframe thead th {\n        text-align: right;\n    }\n</style>\n<table border=\"1\" class=\"dataframe\">\n  <thead>\n    <tr style=\"text-align: right;\">\n      <th></th>\n      <th>Neigborhoods</th>\n      <th>Latitude</th>\n      <th>Longitude</th>\n      <th>No_of_Labs</th>\n      <th>No_of_Hospitals</th>\n      <th>Total_No_of_Crime</th>\n      <th>Total_Population</th>\n    </tr>\n  </thead>\n  <tbody>\n    <tr>\n      <th>0</th>\n      <td>Agincourt North (129)</td>\n      <td>43.805441</td>\n      <td>-79.266712</td>\n      <td>0</td>\n      <td>0</td>\n      <td>2085.44</td>\n      <td>30280</td>\n    </tr>\n    <tr>\n      <th>1</th>\n      <td>Agincourt South-Malvern West (128)</td>\n      <td>43.788658</td>\n      <td>-79.265612</td>\n      <td>3</td>\n      <td>0</td>\n      <td>3311.16</td>\n      <td>21990</td>\n    </tr>\n    <tr>\n      <th>2</th>\n      <td>Alderwood (20)</td>\n      <td>43.604937</td>\n      <td>-79.541611</td>\n      <td>1</td>\n      <td>0</td>\n      <td>1366.61</td>\n      <td>11900</td>\n    </tr>\n    <tr>\n      <th>3</th>\n      <td>Annex (95)</td>\n      <td>43.671585</td>\n      <td>-79.404001</td>\n      <td>8</td>\n      <td>1</td>\n      <td>5384.88</td>\n      <td>29180</td>\n    </tr>\n    <tr>\n      <th>4</th>\n      <td>Banbury-Don Mills (42)</td>\n      <td>43.737657</td>\n      <td>-79.349718</td>\n      <td>0</td>\n      <td>1</td>\n      <td>2205.55</td>\n      <td>26910</td>\n    </tr>\n  </tbody>\n</table>\n</div>"
                    },
                    "metadata": {}
                }
            ]
        },
        {
            "metadata": {},
            "cell_type": "code",
            "source": "x=df['Total_Population'].sum()\ndf['Total_Population(%)']=(df['Total_Population']/x)*100\ndf.head()",
            "execution_count": 23,
            "outputs": [
                {
                    "output_type": "execute_result",
                    "execution_count": 23,
                    "data": {
                        "text/plain": "                         Neigborhoods   Latitude  Longitude  No_of_Labs  \\\n0               Agincourt North (129)  43.805441 -79.266712           0   \n1  Agincourt South-Malvern West (128)  43.788658 -79.265612           3   \n2                      Alderwood (20)  43.604937 -79.541611           1   \n3                          Annex (95)  43.671585 -79.404001           8   \n4              Banbury-Don Mills (42)  43.737657 -79.349718           0   \n\n   No_of_Hospitals  Total_No_of_Crime  Total_Population  Total_Population(%)  \n0                0            2085.44             30280             1.158037  \n1                0            3311.16             21990             0.840992  \n2                0            1366.61             11900             0.455107  \n3                1            5384.88             29180             1.115968  \n4                1            2205.55             26910             1.029154  ",
                        "text/html": "<div>\n<style scoped>\n    .dataframe tbody tr th:only-of-type {\n        vertical-align: middle;\n    }\n\n    .dataframe tbody tr th {\n        vertical-align: top;\n    }\n\n    .dataframe thead th {\n        text-align: right;\n    }\n</style>\n<table border=\"1\" class=\"dataframe\">\n  <thead>\n    <tr style=\"text-align: right;\">\n      <th></th>\n      <th>Neigborhoods</th>\n      <th>Latitude</th>\n      <th>Longitude</th>\n      <th>No_of_Labs</th>\n      <th>No_of_Hospitals</th>\n      <th>Total_No_of_Crime</th>\n      <th>Total_Population</th>\n      <th>Total_Population(%)</th>\n    </tr>\n  </thead>\n  <tbody>\n    <tr>\n      <th>0</th>\n      <td>Agincourt North (129)</td>\n      <td>43.805441</td>\n      <td>-79.266712</td>\n      <td>0</td>\n      <td>0</td>\n      <td>2085.44</td>\n      <td>30280</td>\n      <td>1.158037</td>\n    </tr>\n    <tr>\n      <th>1</th>\n      <td>Agincourt South-Malvern West (128)</td>\n      <td>43.788658</td>\n      <td>-79.265612</td>\n      <td>3</td>\n      <td>0</td>\n      <td>3311.16</td>\n      <td>21990</td>\n      <td>0.840992</td>\n    </tr>\n    <tr>\n      <th>2</th>\n      <td>Alderwood (20)</td>\n      <td>43.604937</td>\n      <td>-79.541611</td>\n      <td>1</td>\n      <td>0</td>\n      <td>1366.61</td>\n      <td>11900</td>\n      <td>0.455107</td>\n    </tr>\n    <tr>\n      <th>3</th>\n      <td>Annex (95)</td>\n      <td>43.671585</td>\n      <td>-79.404001</td>\n      <td>8</td>\n      <td>1</td>\n      <td>5384.88</td>\n      <td>29180</td>\n      <td>1.115968</td>\n    </tr>\n    <tr>\n      <th>4</th>\n      <td>Banbury-Don Mills (42)</td>\n      <td>43.737657</td>\n      <td>-79.349718</td>\n      <td>0</td>\n      <td>1</td>\n      <td>2205.55</td>\n      <td>26910</td>\n      <td>1.029154</td>\n    </tr>\n  </tbody>\n</table>\n</div>"
                    },
                    "metadata": {}
                }
            ]
        },
        {
            "metadata": {},
            "cell_type": "code",
            "source": "x=df['Total_No_of_Crime'].sum()\ndf['Total_No_of_Crime(%)']=(df['Total_No_of_Crime']/x)*100\ndf.head()",
            "execution_count": 24,
            "outputs": [
                {
                    "output_type": "execute_result",
                    "execution_count": 24,
                    "data": {
                        "text/plain": "                         Neigborhoods   Latitude  Longitude  No_of_Labs  \\\n0               Agincourt North (129)  43.805441 -79.266712           0   \n1  Agincourt South-Malvern West (128)  43.788658 -79.265612           3   \n2                      Alderwood (20)  43.604937 -79.541611           1   \n3                          Annex (95)  43.671585 -79.404001           8   \n4              Banbury-Don Mills (42)  43.737657 -79.349718           0   \n\n   No_of_Hospitals  Total_No_of_Crime  Total_Population  Total_Population(%)  \\\n0                0            2085.44             30280             1.158037   \n1                0            3311.16             21990             0.840992   \n2                0            1366.61             11900             0.455107   \n3                1            5384.88             29180             1.115968   \n4                1            2205.55             26910             1.029154   \n\n   Total_No_of_Crime(%)  \n0              0.479976  \n1              0.762083  \n2              0.314533  \n3              1.239362  \n4              0.507620  ",
                        "text/html": "<div>\n<style scoped>\n    .dataframe tbody tr th:only-of-type {\n        vertical-align: middle;\n    }\n\n    .dataframe tbody tr th {\n        vertical-align: top;\n    }\n\n    .dataframe thead th {\n        text-align: right;\n    }\n</style>\n<table border=\"1\" class=\"dataframe\">\n  <thead>\n    <tr style=\"text-align: right;\">\n      <th></th>\n      <th>Neigborhoods</th>\n      <th>Latitude</th>\n      <th>Longitude</th>\n      <th>No_of_Labs</th>\n      <th>No_of_Hospitals</th>\n      <th>Total_No_of_Crime</th>\n      <th>Total_Population</th>\n      <th>Total_Population(%)</th>\n      <th>Total_No_of_Crime(%)</th>\n    </tr>\n  </thead>\n  <tbody>\n    <tr>\n      <th>0</th>\n      <td>Agincourt North (129)</td>\n      <td>43.805441</td>\n      <td>-79.266712</td>\n      <td>0</td>\n      <td>0</td>\n      <td>2085.44</td>\n      <td>30280</td>\n      <td>1.158037</td>\n      <td>0.479976</td>\n    </tr>\n    <tr>\n      <th>1</th>\n      <td>Agincourt South-Malvern West (128)</td>\n      <td>43.788658</td>\n      <td>-79.265612</td>\n      <td>3</td>\n      <td>0</td>\n      <td>3311.16</td>\n      <td>21990</td>\n      <td>0.840992</td>\n      <td>0.762083</td>\n    </tr>\n    <tr>\n      <th>2</th>\n      <td>Alderwood (20)</td>\n      <td>43.604937</td>\n      <td>-79.541611</td>\n      <td>1</td>\n      <td>0</td>\n      <td>1366.61</td>\n      <td>11900</td>\n      <td>0.455107</td>\n      <td>0.314533</td>\n    </tr>\n    <tr>\n      <th>3</th>\n      <td>Annex (95)</td>\n      <td>43.671585</td>\n      <td>-79.404001</td>\n      <td>8</td>\n      <td>1</td>\n      <td>5384.88</td>\n      <td>29180</td>\n      <td>1.115968</td>\n      <td>1.239362</td>\n    </tr>\n    <tr>\n      <th>4</th>\n      <td>Banbury-Don Mills (42)</td>\n      <td>43.737657</td>\n      <td>-79.349718</td>\n      <td>0</td>\n      <td>1</td>\n      <td>2205.55</td>\n      <td>26910</td>\n      <td>1.029154</td>\n      <td>0.507620</td>\n    </tr>\n  </tbody>\n</table>\n</div>"
                    },
                    "metadata": {}
                }
            ]
        },
        {
            "metadata": {},
            "cell_type": "markdown",
            "source": "## Machine Learning algorithm"
        },
        {
            "metadata": {},
            "cell_type": "code",
            "source": "X=df[['No_of_Labs','No_of_Hospitals','Total_Population(%)','Total_No_of_Crime(%)']]",
            "execution_count": 25,
            "outputs": []
        },
        {
            "metadata": {},
            "cell_type": "code",
            "source": "from sklearn.cluster import KMeans",
            "execution_count": 26,
            "outputs": []
        },
        {
            "metadata": {},
            "cell_type": "code",
            "source": "model=KMeans(n_clusters=5)\nmodel.fit(X)\nlabel=model.labels_\ndf['clusters']=label\ndf.head()",
            "execution_count": 27,
            "outputs": [
                {
                    "output_type": "execute_result",
                    "execution_count": 27,
                    "data": {
                        "text/plain": "                         Neigborhoods   Latitude  Longitude  No_of_Labs  \\\n0               Agincourt North (129)  43.805441 -79.266712           0   \n1  Agincourt South-Malvern West (128)  43.788658 -79.265612           3   \n2                      Alderwood (20)  43.604937 -79.541611           1   \n3                          Annex (95)  43.671585 -79.404001           8   \n4              Banbury-Don Mills (42)  43.737657 -79.349718           0   \n\n   No_of_Hospitals  Total_No_of_Crime  Total_Population  Total_Population(%)  \\\n0                0            2085.44             30280             1.158037   \n1                0            3311.16             21990             0.840992   \n2                0            1366.61             11900             0.455107   \n3                1            5384.88             29180             1.115968   \n4                1            2205.55             26910             1.029154   \n\n   Total_No_of_Crime(%)  clusters  \n0              0.479976         0  \n1              0.762083         0  \n2              0.314533         0  \n3              1.239362         4  \n4              0.507620         0  ",
                        "text/html": "<div>\n<style scoped>\n    .dataframe tbody tr th:only-of-type {\n        vertical-align: middle;\n    }\n\n    .dataframe tbody tr th {\n        vertical-align: top;\n    }\n\n    .dataframe thead th {\n        text-align: right;\n    }\n</style>\n<table border=\"1\" class=\"dataframe\">\n  <thead>\n    <tr style=\"text-align: right;\">\n      <th></th>\n      <th>Neigborhoods</th>\n      <th>Latitude</th>\n      <th>Longitude</th>\n      <th>No_of_Labs</th>\n      <th>No_of_Hospitals</th>\n      <th>Total_No_of_Crime</th>\n      <th>Total_Population</th>\n      <th>Total_Population(%)</th>\n      <th>Total_No_of_Crime(%)</th>\n      <th>clusters</th>\n    </tr>\n  </thead>\n  <tbody>\n    <tr>\n      <th>0</th>\n      <td>Agincourt North (129)</td>\n      <td>43.805441</td>\n      <td>-79.266712</td>\n      <td>0</td>\n      <td>0</td>\n      <td>2085.44</td>\n      <td>30280</td>\n      <td>1.158037</td>\n      <td>0.479976</td>\n      <td>0</td>\n    </tr>\n    <tr>\n      <th>1</th>\n      <td>Agincourt South-Malvern West (128)</td>\n      <td>43.788658</td>\n      <td>-79.265612</td>\n      <td>3</td>\n      <td>0</td>\n      <td>3311.16</td>\n      <td>21990</td>\n      <td>0.840992</td>\n      <td>0.762083</td>\n      <td>0</td>\n    </tr>\n    <tr>\n      <th>2</th>\n      <td>Alderwood (20)</td>\n      <td>43.604937</td>\n      <td>-79.541611</td>\n      <td>1</td>\n      <td>0</td>\n      <td>1366.61</td>\n      <td>11900</td>\n      <td>0.455107</td>\n      <td>0.314533</td>\n      <td>0</td>\n    </tr>\n    <tr>\n      <th>3</th>\n      <td>Annex (95)</td>\n      <td>43.671585</td>\n      <td>-79.404001</td>\n      <td>8</td>\n      <td>1</td>\n      <td>5384.88</td>\n      <td>29180</td>\n      <td>1.115968</td>\n      <td>1.239362</td>\n      <td>4</td>\n    </tr>\n    <tr>\n      <th>4</th>\n      <td>Banbury-Don Mills (42)</td>\n      <td>43.737657</td>\n      <td>-79.349718</td>\n      <td>0</td>\n      <td>1</td>\n      <td>2205.55</td>\n      <td>26910</td>\n      <td>1.029154</td>\n      <td>0.507620</td>\n      <td>0</td>\n    </tr>\n  </tbody>\n</table>\n</div>"
                    },
                    "metadata": {}
                }
            ]
        },
        {
            "metadata": {},
            "cell_type": "code",
            "source": "df1=df[df['clusters']==0]\ndf1.head()",
            "execution_count": 35,
            "outputs": [
                {
                    "output_type": "execute_result",
                    "execution_count": 35,
                    "data": {
                        "text/plain": "                         Neigborhoods   Latitude  Longitude  No_of_Labs  \\\n0               Agincourt North (129)  43.805441 -79.266712           0   \n1  Agincourt South-Malvern West (128)  43.788658 -79.265612           3   \n2                      Alderwood (20)  43.604937 -79.541611           1   \n4              Banbury-Don Mills (42)  43.737657 -79.349718           0   \n5                 Bathurst Manor (34)  43.764813 -79.456055           0   \n\n   No_of_Hospitals  Total_No_of_Crime  Total_Population  Total_Population(%)  \\\n0                0            2085.44             30280             1.158037   \n1                0            3311.16             21990             0.840992   \n2                0            1366.61             11900             0.455107   \n4                1            2205.55             26910             1.029154   \n5                0            1560.47             15435             0.590300   \n\n   Total_No_of_Crime(%)  clusters  \n0              0.479976         0  \n1              0.762083         0  \n2              0.314533         0  \n4              0.507620         0  \n5              0.359151         0  ",
                        "text/html": "<div>\n<style scoped>\n    .dataframe tbody tr th:only-of-type {\n        vertical-align: middle;\n    }\n\n    .dataframe tbody tr th {\n        vertical-align: top;\n    }\n\n    .dataframe thead th {\n        text-align: right;\n    }\n</style>\n<table border=\"1\" class=\"dataframe\">\n  <thead>\n    <tr style=\"text-align: right;\">\n      <th></th>\n      <th>Neigborhoods</th>\n      <th>Latitude</th>\n      <th>Longitude</th>\n      <th>No_of_Labs</th>\n      <th>No_of_Hospitals</th>\n      <th>Total_No_of_Crime</th>\n      <th>Total_Population</th>\n      <th>Total_Population(%)</th>\n      <th>Total_No_of_Crime(%)</th>\n      <th>clusters</th>\n    </tr>\n  </thead>\n  <tbody>\n    <tr>\n      <th>0</th>\n      <td>Agincourt North (129)</td>\n      <td>43.805441</td>\n      <td>-79.266712</td>\n      <td>0</td>\n      <td>0</td>\n      <td>2085.44</td>\n      <td>30280</td>\n      <td>1.158037</td>\n      <td>0.479976</td>\n      <td>0</td>\n    </tr>\n    <tr>\n      <th>1</th>\n      <td>Agincourt South-Malvern West (128)</td>\n      <td>43.788658</td>\n      <td>-79.265612</td>\n      <td>3</td>\n      <td>0</td>\n      <td>3311.16</td>\n      <td>21990</td>\n      <td>0.840992</td>\n      <td>0.762083</td>\n      <td>0</td>\n    </tr>\n    <tr>\n      <th>2</th>\n      <td>Alderwood (20)</td>\n      <td>43.604937</td>\n      <td>-79.541611</td>\n      <td>1</td>\n      <td>0</td>\n      <td>1366.61</td>\n      <td>11900</td>\n      <td>0.455107</td>\n      <td>0.314533</td>\n      <td>0</td>\n    </tr>\n    <tr>\n      <th>4</th>\n      <td>Banbury-Don Mills (42)</td>\n      <td>43.737657</td>\n      <td>-79.349718</td>\n      <td>0</td>\n      <td>1</td>\n      <td>2205.55</td>\n      <td>26910</td>\n      <td>1.029154</td>\n      <td>0.507620</td>\n      <td>0</td>\n    </tr>\n    <tr>\n      <th>5</th>\n      <td>Bathurst Manor (34)</td>\n      <td>43.764813</td>\n      <td>-79.456055</td>\n      <td>0</td>\n      <td>0</td>\n      <td>1560.47</td>\n      <td>15435</td>\n      <td>0.590300</td>\n      <td>0.359151</td>\n      <td>0</td>\n    </tr>\n  </tbody>\n</table>\n</div>"
                    },
                    "metadata": {}
                }
            ]
        },
        {
            "metadata": {},
            "cell_type": "markdown",
            "source": "## The best Neighborhoods from the kmeans clustering are those of cluster 0"
        },
        {
            "metadata": {},
            "cell_type": "code",
            "source": "#Cluster 0 are the best neighborhood from kmeans clustering\n#from df1 pick the neighborhoods with crime rate below average and population rate above average as final best Neighborhoods\nmean_Pop=df1['Total_Population(%)'].mean()\nmean_crime=df1['Total_No_of_Crime(%)'].mean()\nbest_neigh=df1[df1['Total_No_of_Crime(%)']< mean_crime]\nfinal_best_neigh=best_neigh[best_neigh['Total_Population(%)']> mean_Pop]",
            "execution_count": 36,
            "outputs": []
        },
        {
            "metadata": {},
            "cell_type": "code",
            "source": "final_best_neigh ## But some neighborhoods still have more than 0 No_of labs, so we drop them for better results",
            "execution_count": 37,
            "outputs": [
                {
                    "output_type": "execute_result",
                    "execution_count": 37,
                    "data": {
                        "text/plain": "                             Neigborhoods   Latitude  Longitude  No_of_Labs  \\\n0                   Agincourt North (129)  43.805441 -79.266712           0   \n4                  Banbury-Don Mills (42)  43.737657 -79.349718           0   \n30                Don Valley Village (47)  43.783294 -79.353644           1   \n39               Englemount-Lawrence (32)  43.720345 -79.437409           0   \n40    Eringate-Centennial-West Deane (11)  43.658017 -79.580445           0   \n42                   Flemingdon Park (44)  43.715930 -79.332646           0   \n49                   High Park North (88)  43.657565 -79.466302           1   \n50                 High Park-Swansea (87)  43.645065 -79.467872           0   \n63      Kingsview Village-The Westway (6)  43.698993 -79.547863           1   \n92                  Oakwood Village (107)  43.688566 -79.439785           1   \n104              Rosedale-Moore Park (98)  43.682820 -79.379669           0   \n112                         Steeles (116)  43.812959 -79.321207           0   \n113              Stonegate-Queensway (16)  43.635518 -79.501128           0   \n114          Tam O'Shanter-Sullivan (118)  43.780130 -79.302919           2   \n116                      The Beaches (63)  43.671050 -79.299601           3   \n118                 Thorncliffe Park (55)  43.707749 -79.349984           1   \n125              Westminster-Branson (35)  43.778813 -79.452418           0   \n131  Willowridge-Martingrove-Richview (7)  43.683645 -79.554221           0   \n\n     No_of_Hospitals  Total_No_of_Crime  Total_Population  \\\n0                  0            2085.44             30280   \n4                  1            2205.55             26910   \n30                 0            2659.43             26735   \n39                 1            2327.62             22080   \n40                 0            1583.76             18805   \n42                 0            2235.40             22165   \n49                 0            2138.46             21300   \n50                 0            2474.58             21750   \n63                 0            2258.83             21725   \n92                 2            2824.93             21075   \n104                0            2808.80             20635   \n112                0            1571.55             25010   \n113                0            2161.83             24690   \n114                1            2458.02             27390   \n116                2            2151.66             21135   \n118                0            1886.72             19225   \n125                0            2196.68             25445   \n131                0            2449.12             21345   \n\n     Total_Population(%)  Total_No_of_Crime(%)  clusters  \n0               1.158037              0.479976         0  \n4               1.029154              0.507620         0  \n30              1.022461              0.612083         0  \n39              0.844434              0.535715         0  \n40              0.719184              0.364512         0  \n42              0.847684              0.514490         0  \n49              0.814603              0.492179         0  \n50              0.831813              0.569539         0  \n63              0.830857              0.519883         0  \n92              0.805998              0.650174         0  \n104             0.789171              0.646462         0  \n112             0.956489              0.361701         0  \n113             0.944251              0.497558         0  \n114             1.047511              0.565728         0  \n116             0.808293              0.495217         0  \n118             0.735246              0.434240         0  \n125             0.973126              0.505579         0  \n131             0.816324              0.563679         0  ",
                        "text/html": "<div>\n<style scoped>\n    .dataframe tbody tr th:only-of-type {\n        vertical-align: middle;\n    }\n\n    .dataframe tbody tr th {\n        vertical-align: top;\n    }\n\n    .dataframe thead th {\n        text-align: right;\n    }\n</style>\n<table border=\"1\" class=\"dataframe\">\n  <thead>\n    <tr style=\"text-align: right;\">\n      <th></th>\n      <th>Neigborhoods</th>\n      <th>Latitude</th>\n      <th>Longitude</th>\n      <th>No_of_Labs</th>\n      <th>No_of_Hospitals</th>\n      <th>Total_No_of_Crime</th>\n      <th>Total_Population</th>\n      <th>Total_Population(%)</th>\n      <th>Total_No_of_Crime(%)</th>\n      <th>clusters</th>\n    </tr>\n  </thead>\n  <tbody>\n    <tr>\n      <th>0</th>\n      <td>Agincourt North (129)</td>\n      <td>43.805441</td>\n      <td>-79.266712</td>\n      <td>0</td>\n      <td>0</td>\n      <td>2085.44</td>\n      <td>30280</td>\n      <td>1.158037</td>\n      <td>0.479976</td>\n      <td>0</td>\n    </tr>\n    <tr>\n      <th>4</th>\n      <td>Banbury-Don Mills (42)</td>\n      <td>43.737657</td>\n      <td>-79.349718</td>\n      <td>0</td>\n      <td>1</td>\n      <td>2205.55</td>\n      <td>26910</td>\n      <td>1.029154</td>\n      <td>0.507620</td>\n      <td>0</td>\n    </tr>\n    <tr>\n      <th>30</th>\n      <td>Don Valley Village (47)</td>\n      <td>43.783294</td>\n      <td>-79.353644</td>\n      <td>1</td>\n      <td>0</td>\n      <td>2659.43</td>\n      <td>26735</td>\n      <td>1.022461</td>\n      <td>0.612083</td>\n      <td>0</td>\n    </tr>\n    <tr>\n      <th>39</th>\n      <td>Englemount-Lawrence (32)</td>\n      <td>43.720345</td>\n      <td>-79.437409</td>\n      <td>0</td>\n      <td>1</td>\n      <td>2327.62</td>\n      <td>22080</td>\n      <td>0.844434</td>\n      <td>0.535715</td>\n      <td>0</td>\n    </tr>\n    <tr>\n      <th>40</th>\n      <td>Eringate-Centennial-West Deane (11)</td>\n      <td>43.658017</td>\n      <td>-79.580445</td>\n      <td>0</td>\n      <td>0</td>\n      <td>1583.76</td>\n      <td>18805</td>\n      <td>0.719184</td>\n      <td>0.364512</td>\n      <td>0</td>\n    </tr>\n    <tr>\n      <th>42</th>\n      <td>Flemingdon Park (44)</td>\n      <td>43.715930</td>\n      <td>-79.332646</td>\n      <td>0</td>\n      <td>0</td>\n      <td>2235.40</td>\n      <td>22165</td>\n      <td>0.847684</td>\n      <td>0.514490</td>\n      <td>0</td>\n    </tr>\n    <tr>\n      <th>49</th>\n      <td>High Park North (88)</td>\n      <td>43.657565</td>\n      <td>-79.466302</td>\n      <td>1</td>\n      <td>0</td>\n      <td>2138.46</td>\n      <td>21300</td>\n      <td>0.814603</td>\n      <td>0.492179</td>\n      <td>0</td>\n    </tr>\n    <tr>\n      <th>50</th>\n      <td>High Park-Swansea (87)</td>\n      <td>43.645065</td>\n      <td>-79.467872</td>\n      <td>0</td>\n      <td>0</td>\n      <td>2474.58</td>\n      <td>21750</td>\n      <td>0.831813</td>\n      <td>0.569539</td>\n      <td>0</td>\n    </tr>\n    <tr>\n      <th>63</th>\n      <td>Kingsview Village-The Westway (6)</td>\n      <td>43.698993</td>\n      <td>-79.547863</td>\n      <td>1</td>\n      <td>0</td>\n      <td>2258.83</td>\n      <td>21725</td>\n      <td>0.830857</td>\n      <td>0.519883</td>\n      <td>0</td>\n    </tr>\n    <tr>\n      <th>92</th>\n      <td>Oakwood Village (107)</td>\n      <td>43.688566</td>\n      <td>-79.439785</td>\n      <td>1</td>\n      <td>2</td>\n      <td>2824.93</td>\n      <td>21075</td>\n      <td>0.805998</td>\n      <td>0.650174</td>\n      <td>0</td>\n    </tr>\n    <tr>\n      <th>104</th>\n      <td>Rosedale-Moore Park (98)</td>\n      <td>43.682820</td>\n      <td>-79.379669</td>\n      <td>0</td>\n      <td>0</td>\n      <td>2808.80</td>\n      <td>20635</td>\n      <td>0.789171</td>\n      <td>0.646462</td>\n      <td>0</td>\n    </tr>\n    <tr>\n      <th>112</th>\n      <td>Steeles (116)</td>\n      <td>43.812959</td>\n      <td>-79.321207</td>\n      <td>0</td>\n      <td>0</td>\n      <td>1571.55</td>\n      <td>25010</td>\n      <td>0.956489</td>\n      <td>0.361701</td>\n      <td>0</td>\n    </tr>\n    <tr>\n      <th>113</th>\n      <td>Stonegate-Queensway (16)</td>\n      <td>43.635518</td>\n      <td>-79.501128</td>\n      <td>0</td>\n      <td>0</td>\n      <td>2161.83</td>\n      <td>24690</td>\n      <td>0.944251</td>\n      <td>0.497558</td>\n      <td>0</td>\n    </tr>\n    <tr>\n      <th>114</th>\n      <td>Tam O'Shanter-Sullivan (118)</td>\n      <td>43.780130</td>\n      <td>-79.302919</td>\n      <td>2</td>\n      <td>1</td>\n      <td>2458.02</td>\n      <td>27390</td>\n      <td>1.047511</td>\n      <td>0.565728</td>\n      <td>0</td>\n    </tr>\n    <tr>\n      <th>116</th>\n      <td>The Beaches (63)</td>\n      <td>43.671050</td>\n      <td>-79.299601</td>\n      <td>3</td>\n      <td>2</td>\n      <td>2151.66</td>\n      <td>21135</td>\n      <td>0.808293</td>\n      <td>0.495217</td>\n      <td>0</td>\n    </tr>\n    <tr>\n      <th>118</th>\n      <td>Thorncliffe Park (55)</td>\n      <td>43.707749</td>\n      <td>-79.349984</td>\n      <td>1</td>\n      <td>0</td>\n      <td>1886.72</td>\n      <td>19225</td>\n      <td>0.735246</td>\n      <td>0.434240</td>\n      <td>0</td>\n    </tr>\n    <tr>\n      <th>125</th>\n      <td>Westminster-Branson (35)</td>\n      <td>43.778813</td>\n      <td>-79.452418</td>\n      <td>0</td>\n      <td>0</td>\n      <td>2196.68</td>\n      <td>25445</td>\n      <td>0.973126</td>\n      <td>0.505579</td>\n      <td>0</td>\n    </tr>\n    <tr>\n      <th>131</th>\n      <td>Willowridge-Martingrove-Richview (7)</td>\n      <td>43.683645</td>\n      <td>-79.554221</td>\n      <td>0</td>\n      <td>0</td>\n      <td>2449.12</td>\n      <td>21345</td>\n      <td>0.816324</td>\n      <td>0.563679</td>\n      <td>0</td>\n    </tr>\n  </tbody>\n</table>\n</div>"
                    },
                    "metadata": {}
                }
            ]
        },
        {
            "metadata": {},
            "cell_type": "code",
            "source": "final_best_neigh.drop([30,49,63,92,114,116,118], inplace=True)\n",
            "execution_count": 38,
            "outputs": [
                {
                    "output_type": "stream",
                    "text": "/opt/conda/envs/Python36/lib/python3.6/site-packages/pandas/core/frame.py:3940: SettingWithCopyWarning: \nA value is trying to be set on a copy of a slice from a DataFrame\n\nSee the caveats in the documentation: http://pandas.pydata.org/pandas-docs/stable/indexing.html#indexing-view-versus-copy\n  errors=errors)\n",
                    "name": "stderr"
                }
            ]
        },
        {
            "metadata": {},
            "cell_type": "code",
            "source": "final_best_neigh",
            "execution_count": 39,
            "outputs": [
                {
                    "output_type": "execute_result",
                    "execution_count": 39,
                    "data": {
                        "text/plain": "                             Neigborhoods   Latitude  Longitude  No_of_Labs  \\\n0                   Agincourt North (129)  43.805441 -79.266712           0   \n4                  Banbury-Don Mills (42)  43.737657 -79.349718           0   \n39               Englemount-Lawrence (32)  43.720345 -79.437409           0   \n40    Eringate-Centennial-West Deane (11)  43.658017 -79.580445           0   \n42                   Flemingdon Park (44)  43.715930 -79.332646           0   \n50                 High Park-Swansea (87)  43.645065 -79.467872           0   \n104              Rosedale-Moore Park (98)  43.682820 -79.379669           0   \n112                         Steeles (116)  43.812959 -79.321207           0   \n113              Stonegate-Queensway (16)  43.635518 -79.501128           0   \n125              Westminster-Branson (35)  43.778813 -79.452418           0   \n131  Willowridge-Martingrove-Richview (7)  43.683645 -79.554221           0   \n\n     No_of_Hospitals  Total_No_of_Crime  Total_Population  \\\n0                  0            2085.44             30280   \n4                  1            2205.55             26910   \n39                 1            2327.62             22080   \n40                 0            1583.76             18805   \n42                 0            2235.40             22165   \n50                 0            2474.58             21750   \n104                0            2808.80             20635   \n112                0            1571.55             25010   \n113                0            2161.83             24690   \n125                0            2196.68             25445   \n131                0            2449.12             21345   \n\n     Total_Population(%)  Total_No_of_Crime(%)  clusters  \n0               1.158037              0.479976         0  \n4               1.029154              0.507620         0  \n39              0.844434              0.535715         0  \n40              0.719184              0.364512         0  \n42              0.847684              0.514490         0  \n50              0.831813              0.569539         0  \n104             0.789171              0.646462         0  \n112             0.956489              0.361701         0  \n113             0.944251              0.497558         0  \n125             0.973126              0.505579         0  \n131             0.816324              0.563679         0  ",
                        "text/html": "<div>\n<style scoped>\n    .dataframe tbody tr th:only-of-type {\n        vertical-align: middle;\n    }\n\n    .dataframe tbody tr th {\n        vertical-align: top;\n    }\n\n    .dataframe thead th {\n        text-align: right;\n    }\n</style>\n<table border=\"1\" class=\"dataframe\">\n  <thead>\n    <tr style=\"text-align: right;\">\n      <th></th>\n      <th>Neigborhoods</th>\n      <th>Latitude</th>\n      <th>Longitude</th>\n      <th>No_of_Labs</th>\n      <th>No_of_Hospitals</th>\n      <th>Total_No_of_Crime</th>\n      <th>Total_Population</th>\n      <th>Total_Population(%)</th>\n      <th>Total_No_of_Crime(%)</th>\n      <th>clusters</th>\n    </tr>\n  </thead>\n  <tbody>\n    <tr>\n      <th>0</th>\n      <td>Agincourt North (129)</td>\n      <td>43.805441</td>\n      <td>-79.266712</td>\n      <td>0</td>\n      <td>0</td>\n      <td>2085.44</td>\n      <td>30280</td>\n      <td>1.158037</td>\n      <td>0.479976</td>\n      <td>0</td>\n    </tr>\n    <tr>\n      <th>4</th>\n      <td>Banbury-Don Mills (42)</td>\n      <td>43.737657</td>\n      <td>-79.349718</td>\n      <td>0</td>\n      <td>1</td>\n      <td>2205.55</td>\n      <td>26910</td>\n      <td>1.029154</td>\n      <td>0.507620</td>\n      <td>0</td>\n    </tr>\n    <tr>\n      <th>39</th>\n      <td>Englemount-Lawrence (32)</td>\n      <td>43.720345</td>\n      <td>-79.437409</td>\n      <td>0</td>\n      <td>1</td>\n      <td>2327.62</td>\n      <td>22080</td>\n      <td>0.844434</td>\n      <td>0.535715</td>\n      <td>0</td>\n    </tr>\n    <tr>\n      <th>40</th>\n      <td>Eringate-Centennial-West Deane (11)</td>\n      <td>43.658017</td>\n      <td>-79.580445</td>\n      <td>0</td>\n      <td>0</td>\n      <td>1583.76</td>\n      <td>18805</td>\n      <td>0.719184</td>\n      <td>0.364512</td>\n      <td>0</td>\n    </tr>\n    <tr>\n      <th>42</th>\n      <td>Flemingdon Park (44)</td>\n      <td>43.715930</td>\n      <td>-79.332646</td>\n      <td>0</td>\n      <td>0</td>\n      <td>2235.40</td>\n      <td>22165</td>\n      <td>0.847684</td>\n      <td>0.514490</td>\n      <td>0</td>\n    </tr>\n    <tr>\n      <th>50</th>\n      <td>High Park-Swansea (87)</td>\n      <td>43.645065</td>\n      <td>-79.467872</td>\n      <td>0</td>\n      <td>0</td>\n      <td>2474.58</td>\n      <td>21750</td>\n      <td>0.831813</td>\n      <td>0.569539</td>\n      <td>0</td>\n    </tr>\n    <tr>\n      <th>104</th>\n      <td>Rosedale-Moore Park (98)</td>\n      <td>43.682820</td>\n      <td>-79.379669</td>\n      <td>0</td>\n      <td>0</td>\n      <td>2808.80</td>\n      <td>20635</td>\n      <td>0.789171</td>\n      <td>0.646462</td>\n      <td>0</td>\n    </tr>\n    <tr>\n      <th>112</th>\n      <td>Steeles (116)</td>\n      <td>43.812959</td>\n      <td>-79.321207</td>\n      <td>0</td>\n      <td>0</td>\n      <td>1571.55</td>\n      <td>25010</td>\n      <td>0.956489</td>\n      <td>0.361701</td>\n      <td>0</td>\n    </tr>\n    <tr>\n      <th>113</th>\n      <td>Stonegate-Queensway (16)</td>\n      <td>43.635518</td>\n      <td>-79.501128</td>\n      <td>0</td>\n      <td>0</td>\n      <td>2161.83</td>\n      <td>24690</td>\n      <td>0.944251</td>\n      <td>0.497558</td>\n      <td>0</td>\n    </tr>\n    <tr>\n      <th>125</th>\n      <td>Westminster-Branson (35)</td>\n      <td>43.778813</td>\n      <td>-79.452418</td>\n      <td>0</td>\n      <td>0</td>\n      <td>2196.68</td>\n      <td>25445</td>\n      <td>0.973126</td>\n      <td>0.505579</td>\n      <td>0</td>\n    </tr>\n    <tr>\n      <th>131</th>\n      <td>Willowridge-Martingrove-Richview (7)</td>\n      <td>43.683645</td>\n      <td>-79.554221</td>\n      <td>0</td>\n      <td>0</td>\n      <td>2449.12</td>\n      <td>21345</td>\n      <td>0.816324</td>\n      <td>0.563679</td>\n      <td>0</td>\n    </tr>\n  </tbody>\n</table>\n</div>"
                    },
                    "metadata": {}
                }
            ]
        },
        {
            "metadata": {},
            "cell_type": "markdown",
            "source": " ## Visualization"
        },
        {
            "metadata": {},
            "cell_type": "code",
            "source": "#11 neighborhoods are finally selected as best.\n# visualize with a folium map\n!pip install folium",
            "execution_count": 40,
            "outputs": [
                {
                    "output_type": "stream",
                    "text": "Collecting folium\n\u001b[?25l  Downloading https://files.pythonhosted.org/packages/a4/f0/44e69d50519880287cc41e7c8a6acc58daa9a9acf5f6afc52bcc70f69a6d/folium-0.11.0-py2.py3-none-any.whl (93kB)\n\u001b[K     |\u2588\u2588\u2588\u2588\u2588\u2588\u2588\u2588\u2588\u2588\u2588\u2588\u2588\u2588\u2588\u2588\u2588\u2588\u2588\u2588\u2588\u2588\u2588\u2588\u2588\u2588\u2588\u2588\u2588\u2588\u2588\u2588| 102kB 8.3MB/s ta 0:00:011\n\u001b[?25hRequirement already satisfied: numpy in /opt/conda/envs/Python36/lib/python3.6/site-packages (from folium) (1.15.4)\nRequirement already satisfied: jinja2>=2.9 in /opt/conda/envs/Python36/lib/python3.6/site-packages (from folium) (2.10)\nCollecting branca>=0.3.0 (from folium)\n  Downloading https://files.pythonhosted.org/packages/13/fb/9eacc24ba3216510c6b59a4ea1cd53d87f25ba76237d7f4393abeaf4c94e/branca-0.4.1-py3-none-any.whl\nRequirement already satisfied: requests in /opt/conda/envs/Python36/lib/python3.6/site-packages (from folium) (2.21.0)\nRequirement already satisfied: MarkupSafe>=0.23 in /opt/conda/envs/Python36/lib/python3.6/site-packages (from jinja2>=2.9->folium) (1.1.0)\nRequirement already satisfied: certifi>=2017.4.17 in /opt/conda/envs/Python36/lib/python3.6/site-packages (from requests->folium) (2020.6.20)\nRequirement already satisfied: chardet<3.1.0,>=3.0.2 in /opt/conda/envs/Python36/lib/python3.6/site-packages (from requests->folium) (3.0.4)\nRequirement already satisfied: urllib3<1.25,>=1.21.1 in /opt/conda/envs/Python36/lib/python3.6/site-packages (from requests->folium) (1.24.1)\nRequirement already satisfied: idna<2.9,>=2.5 in /opt/conda/envs/Python36/lib/python3.6/site-packages (from requests->folium) (2.8)\nInstalling collected packages: branca, folium\nSuccessfully installed branca-0.4.1 folium-0.11.0\n",
                    "name": "stdout"
                }
            ]
        },
        {
            "metadata": {},
            "cell_type": "code",
            "source": "import folium\nimport matplotlib.pyplot as plt\ntoronto=folium.Map(location=[43.6532,-79.3832], zoom_start=13)\nneigh=final_best_neigh['Neigborhoods'].values\nlat=final_best_neigh['Latitude'].values\nlng=final_best_neigh['Longitude'].values               ",
            "execution_count": 41,
            "outputs": []
        },
        {
            "metadata": {},
            "cell_type": "code",
            "source": "for a,b,c in zip(neigh,lat,lng):\n    folium.Marker(location=[b,c],tooltip=a).add_to(toronto)",
            "execution_count": 42,
            "outputs": []
        },
        {
            "metadata": {},
            "cell_type": "code",
            "source": "toronto",
            "execution_count": 43,
            "outputs": [
                {
                    "output_type": "execute_result",
                    "execution_count": 43,
                    "data": {
                        "text/plain": "<folium.folium.Map at 0x7f46293e6dd8>",
                        "text/html": "<div style=\"width:100%;\"><div style=\"position:relative;width:100%;height:0;padding-bottom:60%;\"><span style=\"color:#565656\">Make this Notebook Trusted to load map: File -> Trust Notebook</span><iframe src=\"about:blank\" style=\"position:absolute;width:100%;height:100%;left:0;top:0;border:none !important;\" data-html=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 onload=\"this.contentDocument.open();this.contentDocument.write(atob(this.getAttribute('data-html')));this.contentDocument.close();\" allowfullscreen webkitallowfullscreen mozallowfullscreen></iframe></div></div>"
                    },
                    "metadata": {}
                }
            ]
        },
        {
            "metadata": {},
            "cell_type": "code",
            "source": "",
            "execution_count": null,
            "outputs": []
        },
        {
            "metadata": {},
            "cell_type": "code",
            "source": "",
            "execution_count": null,
            "outputs": []
        }
    ],
    "metadata": {
        "kernelspec": {
            "name": "python3",
            "display_name": "Python 3.6",
            "language": "python"
        },
        "language_info": {
            "name": "python",
            "version": "3.6.9",
            "mimetype": "text/x-python",
            "codemirror_mode": {
                "name": "ipython",
                "version": 3
            },
            "pygments_lexer": "ipython3",
            "nbconvert_exporter": "python",
            "file_extension": ".py"
        }
    },
    "nbformat": 4,
    "nbformat_minor": 1
}