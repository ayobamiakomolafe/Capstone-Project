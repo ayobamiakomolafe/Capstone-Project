{
  "nbformat": 4,
  "nbformat_minor": 0,
  "metadata": {
    "colab": {
      "name": "Time_Series of Sunspot Dataset.ipynb",
      "provenance": [],
      "collapsed_sections": [],
      "include_colab_link": true
    },
    "kernelspec": {
      "display_name": "Python 3",
      "name": "python3"
    }
  },
  "cells": [
    {
      "cell_type": "markdown",
      "metadata": {
        "id": "view-in-github",
        "colab_type": "text"
      },
      "source": [
        "<a href=\"https://colab.research.google.com/github/ayobamiakomolafe/Capstone-Project/blob/master/Time_Series_of_Sunspot_Dataset.ipynb\" target=\"_parent\"><img src=\"https://colab.research.google.com/assets/colab-badge.svg\" alt=\"Open In Colab\"/></a>"
      ]
    },
    {
      "cell_type": "code",
      "metadata": {
        "id": "tP7oqUdkk0gY"
      },
      "source": [
        "!wget --no-check-certificate \\\n",
        "    https://raw.githubusercontent.com/jbrownlee/Datasets/master/daily-min-temperatures.csv \\\n",
        "    -O /tmp/daily-min-temperatures.csv"
      ],
      "execution_count": null,
      "outputs": []
    },
    {
      "cell_type": "code",
      "metadata": {
        "colab": {
          "base_uri": "https://localhost:8080/",
          "height": 198
        },
        "id": "dkY29AzVloa3",
        "outputId": "59ef4d5e-b351-444f-8cab-a3a2339dce8f"
      },
      "source": [
        "import pandas as pd\n",
        "df=pd.read_csv('/tmp/daily-min-temperatures.csv')\n",
        "df.head()"
      ],
      "execution_count": null,
      "outputs": [
        {
          "output_type": "execute_result",
          "data": {
            "text/html": [
              "<div>\n",
              "<style scoped>\n",
              "    .dataframe tbody tr th:only-of-type {\n",
              "        vertical-align: middle;\n",
              "    }\n",
              "\n",
              "    .dataframe tbody tr th {\n",
              "        vertical-align: top;\n",
              "    }\n",
              "\n",
              "    .dataframe thead th {\n",
              "        text-align: right;\n",
              "    }\n",
              "</style>\n",
              "<table border=\"1\" class=\"dataframe\">\n",
              "  <thead>\n",
              "    <tr style=\"text-align: right;\">\n",
              "      <th></th>\n",
              "      <th>Date</th>\n",
              "      <th>Temp</th>\n",
              "    </tr>\n",
              "  </thead>\n",
              "  <tbody>\n",
              "    <tr>\n",
              "      <th>0</th>\n",
              "      <td>1981-01-01</td>\n",
              "      <td>20.7</td>\n",
              "    </tr>\n",
              "    <tr>\n",
              "      <th>1</th>\n",
              "      <td>1981-01-02</td>\n",
              "      <td>17.9</td>\n",
              "    </tr>\n",
              "    <tr>\n",
              "      <th>2</th>\n",
              "      <td>1981-01-03</td>\n",
              "      <td>18.8</td>\n",
              "    </tr>\n",
              "    <tr>\n",
              "      <th>3</th>\n",
              "      <td>1981-01-04</td>\n",
              "      <td>14.6</td>\n",
              "    </tr>\n",
              "    <tr>\n",
              "      <th>4</th>\n",
              "      <td>1981-01-05</td>\n",
              "      <td>15.8</td>\n",
              "    </tr>\n",
              "  </tbody>\n",
              "</table>\n",
              "</div>"
            ],
            "text/plain": [
              "         Date  Temp\n",
              "0  1981-01-01  20.7\n",
              "1  1981-01-02  17.9\n",
              "2  1981-01-03  18.8\n",
              "3  1981-01-04  14.6\n",
              "4  1981-01-05  15.8"
            ]
          },
          "metadata": {
            "tags": []
          },
          "execution_count": 25
        }
      ]
    },
    {
      "cell_type": "code",
      "metadata": {
        "id": "fLk9QKZRloVy"
      },
      "source": [
        "df_temp=df['Temp'].values"
      ],
      "execution_count": null,
      "outputs": []
    },
    {
      "cell_type": "code",
      "metadata": {
        "colab": {
          "background_save": true
        },
        "id": "7G9I1zkdloL4"
      },
      "source": [
        "Temp_list=[]\n",
        "window=30\n",
        "for i in range(len(df_temp)):\n",
        "    window_list=df_temp[i:window]\n",
        "    Temp_list.append(window_list)\n",
        "    window= window+1\n"
      ],
      "execution_count": null,
      "outputs": []
    },
    {
      "cell_type": "code",
      "metadata": {
        "id": "12X6WGGRpjiU"
      },
      "source": [
        "new_temp=[]\n",
        "for i in Temp_list:\n",
        "  if len(i)==30:\n",
        "    new_temp.append(i)\n",
        "  "
      ],
      "execution_count": null,
      "outputs": []
    },
    {
      "cell_type": "code",
      "metadata": {
        "id": "tD9-A9KavuWB"
      },
      "source": [
        "x=[]\n",
        "y=[]\n",
        "for i in new_temp:\n",
        "  x.append(i[:-1])\n",
        "  y.append(i[-1])"
      ],
      "execution_count": null,
      "outputs": []
    },
    {
      "cell_type": "code",
      "metadata": {
        "id": "a6kgkd7Ivtwp"
      },
      "source": [
        "import tensorflow as tf\n",
        "model=tf.keras.models.Sequential([\n",
        "                                \n",
        "                                 tf.keras.layers.Dense(32, activation='relu'),\n",
        "                                 tf.keras.layers.Dense(32, activation='relu'),\n",
        "                                 tf.keras.layers.Dense(1)\n",
        "                                 \n",
        "                                 \n",
        "])"
      ],
      "execution_count": null,
      "outputs": []
    },
    {
      "cell_type": "code",
      "metadata": {
        "id": "1GHhs2HeYjMD"
      },
      "source": [
        "model.compile(loss='mae',optimizer=tf.optimizers.Adam(learning_rate=0.1), metrics=['mae'])"
      ],
      "execution_count": null,
      "outputs": []
    },
    {
      "cell_type": "code",
      "metadata": {
        "id": "cHgtGQ1xbMPf"
      },
      "source": [
        "import numpy as np\n",
        "y=np.array(y)\n",
        "x=np.array(x)"
      ],
      "execution_count": null,
      "outputs": []
    },
    {
      "cell_type": "code",
      "metadata": {
        "id": "unUfaL5_Zp3y"
      },
      "source": [
        "#split datasets\n",
        "x_train=x[:2500]\n",
        "y_train=y[:2500]\n",
        "x_test=x[2500:]\n",
        "y_test=y[2500:]"
      ],
      "execution_count": null,
      "outputs": []
    },
    {
      "cell_type": "code",
      "metadata": {
        "colab": {
          "base_uri": "https://localhost:8080/"
        },
        "id": "tGtyYjgKaKQA",
        "outputId": "57e02e2a-4038-428e-d42f-0a9e823e08e6"
      },
      "source": [
        "model.fit(x_train, y_train, epochs=20)"
      ],
      "execution_count": null,
      "outputs": [
        {
          "output_type": "stream",
          "text": [
            "Epoch 1/20\n",
            "79/79 [==============================] - 1s 1ms/step - loss: 26.3521 - mae: 26.3521\n",
            "Epoch 2/20\n",
            "79/79 [==============================] - 0s 1ms/step - loss: 2.4450 - mae: 2.4450\n",
            "Epoch 3/20\n",
            "79/79 [==============================] - 0s 1ms/step - loss: 2.4318 - mae: 2.4318\n",
            "Epoch 4/20\n",
            "79/79 [==============================] - 0s 1ms/step - loss: 2.0622 - mae: 2.0622\n",
            "Epoch 5/20\n",
            "79/79 [==============================] - 0s 1ms/step - loss: 2.1289 - mae: 2.1289\n",
            "Epoch 6/20\n",
            "79/79 [==============================] - 0s 1ms/step - loss: 2.2452 - mae: 2.2452\n",
            "Epoch 7/20\n",
            "79/79 [==============================] - 0s 1ms/step - loss: 2.1932 - mae: 2.1932\n",
            "Epoch 8/20\n",
            "79/79 [==============================] - 0s 1ms/step - loss: 2.1791 - mae: 2.1791\n",
            "Epoch 9/20\n",
            "79/79 [==============================] - 0s 1ms/step - loss: 2.3022 - mae: 2.3022\n",
            "Epoch 10/20\n",
            "79/79 [==============================] - 0s 1ms/step - loss: 2.3726 - mae: 2.3726\n",
            "Epoch 11/20\n",
            "79/79 [==============================] - 0s 1ms/step - loss: 2.0731 - mae: 2.0731\n",
            "Epoch 12/20\n",
            "79/79 [==============================] - 0s 1ms/step - loss: 2.0980 - mae: 2.0980\n",
            "Epoch 13/20\n",
            "79/79 [==============================] - 0s 1ms/step - loss: 2.3783 - mae: 2.3783\n",
            "Epoch 14/20\n",
            "79/79 [==============================] - 0s 1ms/step - loss: 2.2678 - mae: 2.2678\n",
            "Epoch 15/20\n",
            "79/79 [==============================] - 0s 1ms/step - loss: 2.1496 - mae: 2.1496\n",
            "Epoch 16/20\n",
            "79/79 [==============================] - 0s 1ms/step - loss: 2.0546 - mae: 2.0546\n",
            "Epoch 17/20\n",
            "79/79 [==============================] - 0s 1ms/step - loss: 2.1323 - mae: 2.1323\n",
            "Epoch 18/20\n",
            "79/79 [==============================] - 0s 1ms/step - loss: 2.2804 - mae: 2.2804\n",
            "Epoch 19/20\n",
            "79/79 [==============================] - 0s 1ms/step - loss: 2.0887 - mae: 2.0887\n",
            "Epoch 20/20\n",
            "79/79 [==============================] - 0s 1ms/step - loss: 2.2975 - mae: 2.2975\n"
          ],
          "name": "stdout"
        },
        {
          "output_type": "execute_result",
          "data": {
            "text/plain": [
              "<tensorflow.python.keras.callbacks.History at 0x7fd309f16bd0>"
            ]
          },
          "metadata": {
            "tags": []
          },
          "execution_count": 22
        }
      ]
    },
    {
      "cell_type": "code",
      "metadata": {
        "colab": {
          "base_uri": "https://localhost:8080/"
        },
        "id": "NcG9r1eClbTh",
        "outputId": "58a5797e-a911-4c00-e2c5-89334fe4bdc4"
      },
      "source": [
        "model.evaluate(x_test,y_test)"
      ],
      "execution_count": null,
      "outputs": [
        {
          "output_type": "stream",
          "text": [
            "36/36 [==============================] - 0s 943us/step - loss: 1.8672 - mae: 1.8672\n"
          ],
          "name": "stdout"
        },
        {
          "output_type": "execute_result",
          "data": {
            "text/plain": [
              "[1.8671729564666748, 1.8671729564666748]"
            ]
          },
          "metadata": {
            "tags": []
          },
          "execution_count": 23
        }
      ]
    }
  ]
}